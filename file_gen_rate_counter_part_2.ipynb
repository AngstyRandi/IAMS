{
 "cells": [
  {
   "cell_type": "markdown",
   "metadata": {},
   "source": [
    "# Nuisance Alarm Filter"
   ]
  },
  {
   "cell_type": "markdown",
   "metadata": {},
   "source": [
    "## Documentation\n",
    "\n",
    "lorem ipsum"
   ]
  },
  {
   "cell_type": "markdown",
   "metadata": {},
   "source": [
    "## Initialisation"
   ]
  },
  {
   "cell_type": "markdown",
   "metadata": {},
   "source": [
    "### Load libraries"
   ]
  },
  {
   "cell_type": "code",
   "execution_count": 1,
   "metadata": {},
   "outputs": [],
   "source": [
    "# Load libraries\n",
    "import pandas as pd\n",
    "import numpy as np\n",
    "import datetime as dt\n",
    "import time"
   ]
  },
  {
   "cell_type": "markdown",
   "metadata": {},
   "source": [
    "### Configure display"
   ]
  },
  {
   "cell_type": "code",
   "execution_count": 2,
   "metadata": {},
   "outputs": [],
   "source": [
    "# Enable display of all columns for dataframes with many variables\n",
    "pd.set_option('display.max_columns', None)"
   ]
  },
  {
   "cell_type": "markdown",
   "metadata": {},
   "source": [
    "### Set Up Directory"
   ]
  },
  {
   "cell_type": "code",
   "execution_count": 3,
   "metadata": {},
   "outputs": [
    {
     "data": {
      "text/plain": [
       "'C:\\\\Users\\\\cftfda01\\\\Documents\\\\SBST Train IAMS Project\\\\scripts'"
      ]
     },
     "execution_count": 3,
     "metadata": {},
     "output_type": "execute_result"
    }
   ],
   "source": [
    "# Check current directory location\n",
    "import os\n",
    "cwd = os.getcwd()\n",
    "cwd"
   ]
  },
  {
   "cell_type": "code",
   "execution_count": 4,
   "metadata": {},
   "outputs": [
    {
     "data": {
      "text/plain": [
       "'C:\\\\Users\\\\cftfda01\\\\Documents\\\\SBST Train IAMS Project\\\\alarm-event-logs'"
      ]
     },
     "execution_count": 4,
     "metadata": {},
     "output_type": "execute_result"
    }
   ],
   "source": [
    "# Define root file directory folder where the files are being stored\n",
    "#os.chdir(cwd + alarmLoc)\n",
    "os.chdir(os.path.dirname(os.getcwd()) + '\\\\alarm-event-logs')\n",
    "\n",
    "# Check current directory location\n",
    "cwd = os.getcwd()\n",
    "\n",
    "# Check directory location\n",
    "cwd"
   ]
  },
  {
   "cell_type": "code",
   "execution_count": 5,
   "metadata": {},
   "outputs": [],
   "source": [
    "# Location of Alarm and Normal Event Files\n",
    "alarmLoc = '\\\\sample_data_ecs\\\\batch 001 - 20201230 to 20210201\\\\dataCleaned\\\\AlarmLog_meta'\n",
    "eventLoc = '\\\\sample_data_ecs\\\\batch 001 - 20201230 to 20210201\\\\dataCleaned\\\\EventLog_meta'\n",
    "#alarmLoc = '\\\\sample_data_ats\\\\batch 001 - 20201230 to 20210201\\\\dataCleaned\\\\AlarmLog_meta'\n",
    "#eventLoc = '\\\\sample_data_ats\\\\batch 001 - 20201230 to 20210201\\\\dataCleaned\\\\EventLog_meta'\n",
    "#alarmLoc = '\\\\sample_data_cms\\\\batch 001 - 20201230 to 20210201\\\\dataCleaned\\\\AlarmLog_meta'\n",
    "#eventLoc = '\\\\sample_data_cms\\\\batch 001 - 20201230 to 20210201\\\\dataCleaned\\\\EventLog_meta'"
   ]
  },
  {
   "cell_type": "code",
   "execution_count": null,
   "metadata": {},
   "outputs": [],
   "source": []
  },
  {
   "cell_type": "markdown",
   "metadata": {},
   "source": [
    "## Load EventList Files"
   ]
  },
  {
   "cell_type": "code",
   "execution_count": 6,
   "metadata": {},
   "outputs": [
    {
     "data": {
      "text/plain": [
       "'C:\\\\Users\\\\cftfda01\\\\Documents\\\\SBST Train IAMS Project\\\\alarm-event-logs'"
      ]
     },
     "execution_count": 6,
     "metadata": {},
     "output_type": "execute_result"
    }
   ],
   "source": [
    "# Check directory location\n",
    "cwd"
   ]
  },
  {
   "cell_type": "code",
   "execution_count": 7,
   "metadata": {},
   "outputs": [
    {
     "data": {
      "text/plain": [
       "'C:\\\\Users\\\\cftfda01\\\\Documents\\\\SBST Train IAMS Project\\\\alarm-event-logs\\\\sample_data_ecs\\\\batch 001 - 20201230 to 20210201\\\\dataCleaned\\\\AlarmLog_meta'"
      ]
     },
     "execution_count": 7,
     "metadata": {},
     "output_type": "execute_result"
    }
   ],
   "source": [
    "# Define root file directory folder where the files are being stored\n",
    "#os.chdir(cwd + alarmLoc)\n",
    "os.chdir(cwd + alarmLoc)\n",
    "# Check directory location\n",
    "os.getcwd()"
   ]
  },
  {
   "cell_type": "code",
   "execution_count": 8,
   "metadata": {},
   "outputs": [
    {
     "name": "stdout",
     "output_type": "stream",
     "text": [
      "11\n",
      "(523236, 3)\n",
      "<class 'pandas.core.frame.DataFrame'>\n",
      "Int64Index: 523236 entries, 434489 to 484488\n",
      "Data columns (total 3 columns):\n",
      " #   Column             Non-Null Count   Dtype         \n",
      "---  ------             --------------   -----         \n",
      " 0   FileName           523236 non-null  object        \n",
      " 1   FileSize_Bytes     523236 non-null  int64         \n",
      " 2   DATETIME_RECEIVED  523236 non-null  datetime64[ns]\n",
      "dtypes: datetime64[ns](1), int64(1), object(1)\n",
      "memory usage: 16.0+ MB\n",
      "None\n"
     ]
    }
   ],
   "source": [
    "# Gather list of cleaned alarmList meta data files\n",
    "dfs = [pd.read_csv(f)\n",
    "        for f in os.listdir(os.getcwd()) if f.endswith('csv')]\n",
    "\n",
    "print(len(dfs))\n",
    "\n",
    "# Compile list of cleaned alarmList files into a single dataframe\n",
    "df = pd.concat(dfs, ignore_index=True).reset_index()\n",
    "\n",
    "# Configure data type of date value\n",
    "df['DATETIME_RECEIVED'] = pd.to_datetime(df['DATETIME_RECEIVED'])\n",
    "\n",
    "# Sort values by datetime\n",
    "df = df.sort_values(by = 'DATETIME_RECEIVED', ascending = True)\n",
    "\n",
    "# Delete redundant index col\n",
    "del df[\"index\"]\n",
    "\n",
    "# Print df summary stats\n",
    "print(df.shape)\n",
    "print(df.info())"
   ]
  },
  {
   "cell_type": "code",
   "execution_count": 9,
   "metadata": {},
   "outputs": [
    {
     "data": {
      "text/html": [
       "<div>\n",
       "<style scoped>\n",
       "    .dataframe tbody tr th:only-of-type {\n",
       "        vertical-align: middle;\n",
       "    }\n",
       "\n",
       "    .dataframe tbody tr th {\n",
       "        vertical-align: top;\n",
       "    }\n",
       "\n",
       "    .dataframe thead th {\n",
       "        text-align: right;\n",
       "    }\n",
       "</style>\n",
       "<table border=\"1\" class=\"dataframe\">\n",
       "  <thead>\n",
       "    <tr style=\"text-align: right;\">\n",
       "      <th></th>\n",
       "      <th>FileName</th>\n",
       "      <th>FileSize_Bytes</th>\n",
       "      <th>DATETIME_RECEIVED</th>\n",
       "    </tr>\n",
       "  </thead>\n",
       "  <tbody>\n",
       "    <tr>\n",
       "      <th>434489</th>\n",
       "      <td>AlarmListTest_1608663455_838030</td>\n",
       "      <td>100</td>\n",
       "      <td>2020-12-23 02:57:35.838</td>\n",
       "    </tr>\n",
       "    <tr>\n",
       "      <th>434490</th>\n",
       "      <td>AlarmListTest_1608663457_011107</td>\n",
       "      <td>10786</td>\n",
       "      <td>2020-12-23 02:57:37.011</td>\n",
       "    </tr>\n",
       "    <tr>\n",
       "      <th>434491</th>\n",
       "      <td>AlarmListTest_1608663463_417482</td>\n",
       "      <td>111111</td>\n",
       "      <td>2020-12-23 02:57:43.417</td>\n",
       "    </tr>\n",
       "    <tr>\n",
       "      <th>434492</th>\n",
       "      <td>AlarmListTest_1608663465_435941</td>\n",
       "      <td>1127</td>\n",
       "      <td>2020-12-23 02:57:45.435</td>\n",
       "    </tr>\n",
       "    <tr>\n",
       "      <th>434493</th>\n",
       "      <td>AlarmListTest_1608663466_343256</td>\n",
       "      <td>8600</td>\n",
       "      <td>2020-12-23 02:57:46.343</td>\n",
       "    </tr>\n",
       "  </tbody>\n",
       "</table>\n",
       "</div>"
      ],
      "text/plain": [
       "                               FileName  FileSize_Bytes  \\\n",
       "434489  AlarmListTest_1608663455_838030             100   \n",
       "434490  AlarmListTest_1608663457_011107           10786   \n",
       "434491  AlarmListTest_1608663463_417482          111111   \n",
       "434492  AlarmListTest_1608663465_435941            1127   \n",
       "434493  AlarmListTest_1608663466_343256            8600   \n",
       "\n",
       "             DATETIME_RECEIVED  \n",
       "434489 2020-12-23 02:57:35.838  \n",
       "434490 2020-12-23 02:57:37.011  \n",
       "434491 2020-12-23 02:57:43.417  \n",
       "434492 2020-12-23 02:57:45.435  \n",
       "434493 2020-12-23 02:57:46.343  "
      ]
     },
     "execution_count": 9,
     "metadata": {},
     "output_type": "execute_result"
    }
   ],
   "source": [
    "# Inspect df\n",
    "df.head()"
   ]
  },
  {
   "cell_type": "markdown",
   "metadata": {},
   "source": [
    "## Perform Rolling Window Summary"
   ]
  },
  {
   "cell_type": "markdown",
   "metadata": {},
   "source": [
    "#### Reindex Data By Time"
   ]
  },
  {
   "cell_type": "code",
   "execution_count": 10,
   "metadata": {},
   "outputs": [
    {
     "data": {
      "text/html": [
       "<div>\n",
       "<style scoped>\n",
       "    .dataframe tbody tr th:only-of-type {\n",
       "        vertical-align: middle;\n",
       "    }\n",
       "\n",
       "    .dataframe tbody tr th {\n",
       "        vertical-align: top;\n",
       "    }\n",
       "\n",
       "    .dataframe thead th {\n",
       "        text-align: right;\n",
       "    }\n",
       "</style>\n",
       "<table border=\"1\" class=\"dataframe\">\n",
       "  <thead>\n",
       "    <tr style=\"text-align: right;\">\n",
       "      <th></th>\n",
       "      <th>FileName</th>\n",
       "      <th>FileSize_Bytes</th>\n",
       "      <th>DATETIME_RECEIVED</th>\n",
       "    </tr>\n",
       "    <tr>\n",
       "      <th>datetimeIndex</th>\n",
       "      <th></th>\n",
       "      <th></th>\n",
       "      <th></th>\n",
       "    </tr>\n",
       "  </thead>\n",
       "  <tbody>\n",
       "    <tr>\n",
       "      <th>2020-12-23 02:57:35.838</th>\n",
       "      <td>AlarmListTest_1608663455_838030</td>\n",
       "      <td>100</td>\n",
       "      <td>2020-12-23 02:57:35.838</td>\n",
       "    </tr>\n",
       "    <tr>\n",
       "      <th>2020-12-23 02:57:37.011</th>\n",
       "      <td>AlarmListTest_1608663457_011107</td>\n",
       "      <td>10786</td>\n",
       "      <td>2020-12-23 02:57:37.011</td>\n",
       "    </tr>\n",
       "    <tr>\n",
       "      <th>2020-12-23 02:57:43.417</th>\n",
       "      <td>AlarmListTest_1608663463_417482</td>\n",
       "      <td>111111</td>\n",
       "      <td>2020-12-23 02:57:43.417</td>\n",
       "    </tr>\n",
       "    <tr>\n",
       "      <th>2020-12-23 02:57:45.435</th>\n",
       "      <td>AlarmListTest_1608663465_435941</td>\n",
       "      <td>1127</td>\n",
       "      <td>2020-12-23 02:57:45.435</td>\n",
       "    </tr>\n",
       "    <tr>\n",
       "      <th>2020-12-23 02:57:46.343</th>\n",
       "      <td>AlarmListTest_1608663466_343256</td>\n",
       "      <td>8600</td>\n",
       "      <td>2020-12-23 02:57:46.343</td>\n",
       "    </tr>\n",
       "  </tbody>\n",
       "</table>\n",
       "</div>"
      ],
      "text/plain": [
       "                                                FileName  FileSize_Bytes  \\\n",
       "datetimeIndex                                                              \n",
       "2020-12-23 02:57:35.838  AlarmListTest_1608663455_838030             100   \n",
       "2020-12-23 02:57:37.011  AlarmListTest_1608663457_011107           10786   \n",
       "2020-12-23 02:57:43.417  AlarmListTest_1608663463_417482          111111   \n",
       "2020-12-23 02:57:45.435  AlarmListTest_1608663465_435941            1127   \n",
       "2020-12-23 02:57:46.343  AlarmListTest_1608663466_343256            8600   \n",
       "\n",
       "                              DATETIME_RECEIVED  \n",
       "datetimeIndex                                    \n",
       "2020-12-23 02:57:35.838 2020-12-23 02:57:35.838  \n",
       "2020-12-23 02:57:37.011 2020-12-23 02:57:37.011  \n",
       "2020-12-23 02:57:43.417 2020-12-23 02:57:43.417  \n",
       "2020-12-23 02:57:45.435 2020-12-23 02:57:45.435  \n",
       "2020-12-23 02:57:46.343 2020-12-23 02:57:46.343  "
      ]
     },
     "execution_count": 10,
     "metadata": {},
     "output_type": "execute_result"
    }
   ],
   "source": [
    "# Create copy of time sequence field (DATETIME_RECEIVED) as a proto index column\n",
    "df[\"datetimeIndex\"] = df[\"DATETIME_RECEIVED\"].copy()\n",
    "\n",
    "# Set Date-Time to be the index\n",
    "df = df.set_index(df[\"datetimeIndex\"])\n",
    "\n",
    "# Drop proto index column\n",
    "del df[\"datetimeIndex\"]\n",
    "\n",
    "# Inspect data sample\n",
    "df.head()"
   ]
  },
  {
   "cell_type": "markdown",
   "metadata": {},
   "source": [
    "### Perform Rolling Window Count of Files"
   ]
  },
  {
   "cell_type": "code",
   "execution_count": 11,
   "metadata": {},
   "outputs": [
    {
     "data": {
      "text/html": [
       "<div>\n",
       "<style scoped>\n",
       "    .dataframe tbody tr th:only-of-type {\n",
       "        vertical-align: middle;\n",
       "    }\n",
       "\n",
       "    .dataframe tbody tr th {\n",
       "        vertical-align: top;\n",
       "    }\n",
       "\n",
       "    .dataframe thead th {\n",
       "        text-align: right;\n",
       "    }\n",
       "</style>\n",
       "<table border=\"1\" class=\"dataframe\">\n",
       "  <thead>\n",
       "    <tr style=\"text-align: right;\">\n",
       "      <th></th>\n",
       "      <th>FileName</th>\n",
       "      <th>FileSize_Bytes</th>\n",
       "      <th>DATETIME_RECEIVED</th>\n",
       "      <th>fileCount_01sec</th>\n",
       "      <th>fileCount_60sec</th>\n",
       "    </tr>\n",
       "    <tr>\n",
       "      <th>datetimeIndex</th>\n",
       "      <th></th>\n",
       "      <th></th>\n",
       "      <th></th>\n",
       "      <th></th>\n",
       "      <th></th>\n",
       "    </tr>\n",
       "  </thead>\n",
       "  <tbody>\n",
       "    <tr>\n",
       "      <th>2020-12-23 02:57:35.838</th>\n",
       "      <td>AlarmListTest_1608663455_838030</td>\n",
       "      <td>100</td>\n",
       "      <td>2020-12-23 02:57:35.838</td>\n",
       "      <td>1.0</td>\n",
       "      <td>1.0</td>\n",
       "    </tr>\n",
       "    <tr>\n",
       "      <th>2020-12-23 02:57:37.011</th>\n",
       "      <td>AlarmListTest_1608663457_011107</td>\n",
       "      <td>10786</td>\n",
       "      <td>2020-12-23 02:57:37.011</td>\n",
       "      <td>1.0</td>\n",
       "      <td>2.0</td>\n",
       "    </tr>\n",
       "    <tr>\n",
       "      <th>2020-12-23 02:57:43.417</th>\n",
       "      <td>AlarmListTest_1608663463_417482</td>\n",
       "      <td>111111</td>\n",
       "      <td>2020-12-23 02:57:43.417</td>\n",
       "      <td>1.0</td>\n",
       "      <td>3.0</td>\n",
       "    </tr>\n",
       "    <tr>\n",
       "      <th>2020-12-23 02:57:45.435</th>\n",
       "      <td>AlarmListTest_1608663465_435941</td>\n",
       "      <td>1127</td>\n",
       "      <td>2020-12-23 02:57:45.435</td>\n",
       "      <td>1.0</td>\n",
       "      <td>4.0</td>\n",
       "    </tr>\n",
       "    <tr>\n",
       "      <th>2020-12-23 02:57:46.343</th>\n",
       "      <td>AlarmListTest_1608663466_343256</td>\n",
       "      <td>8600</td>\n",
       "      <td>2020-12-23 02:57:46.343</td>\n",
       "      <td>2.0</td>\n",
       "      <td>5.0</td>\n",
       "    </tr>\n",
       "  </tbody>\n",
       "</table>\n",
       "</div>"
      ],
      "text/plain": [
       "                                                FileName  FileSize_Bytes  \\\n",
       "datetimeIndex                                                              \n",
       "2020-12-23 02:57:35.838  AlarmListTest_1608663455_838030             100   \n",
       "2020-12-23 02:57:37.011  AlarmListTest_1608663457_011107           10786   \n",
       "2020-12-23 02:57:43.417  AlarmListTest_1608663463_417482          111111   \n",
       "2020-12-23 02:57:45.435  AlarmListTest_1608663465_435941            1127   \n",
       "2020-12-23 02:57:46.343  AlarmListTest_1608663466_343256            8600   \n",
       "\n",
       "                              DATETIME_RECEIVED  fileCount_01sec  \\\n",
       "datetimeIndex                                                      \n",
       "2020-12-23 02:57:35.838 2020-12-23 02:57:35.838              1.0   \n",
       "2020-12-23 02:57:37.011 2020-12-23 02:57:37.011              1.0   \n",
       "2020-12-23 02:57:43.417 2020-12-23 02:57:43.417              1.0   \n",
       "2020-12-23 02:57:45.435 2020-12-23 02:57:45.435              1.0   \n",
       "2020-12-23 02:57:46.343 2020-12-23 02:57:46.343              2.0   \n",
       "\n",
       "                         fileCount_60sec  \n",
       "datetimeIndex                             \n",
       "2020-12-23 02:57:35.838              1.0  \n",
       "2020-12-23 02:57:37.011              2.0  \n",
       "2020-12-23 02:57:43.417              3.0  \n",
       "2020-12-23 02:57:45.435              4.0  \n",
       "2020-12-23 02:57:46.343              5.0  "
      ]
     },
     "execution_count": 11,
     "metadata": {},
     "output_type": "execute_result"
    }
   ],
   "source": [
    "# Count number of files within window period\n",
    "df[\"fileCount_01sec\"] = df[\"FileName\"].rolling('1s').count()\n",
    "df[\"fileCount_60sec\"] = df[\"FileName\"].rolling('60s').count()\n",
    "\n",
    "# Inspect data sample\n",
    "df.head()"
   ]
  },
  {
   "cell_type": "code",
   "execution_count": 12,
   "metadata": {},
   "outputs": [
    {
     "data": {
      "text/html": [
       "<div>\n",
       "<style scoped>\n",
       "    .dataframe tbody tr th:only-of-type {\n",
       "        vertical-align: middle;\n",
       "    }\n",
       "\n",
       "    .dataframe tbody tr th {\n",
       "        vertical-align: top;\n",
       "    }\n",
       "\n",
       "    .dataframe thead th {\n",
       "        text-align: right;\n",
       "    }\n",
       "</style>\n",
       "<table border=\"1\" class=\"dataframe\">\n",
       "  <thead>\n",
       "    <tr style=\"text-align: right;\">\n",
       "      <th></th>\n",
       "      <th>FileName</th>\n",
       "      <th>FileSize_Bytes</th>\n",
       "      <th>DATETIME_RECEIVED</th>\n",
       "      <th>fileCount_01sec</th>\n",
       "      <th>fileCount_60sec</th>\n",
       "      <th>fileSize_Bytes_01sec</th>\n",
       "      <th>fileSize_Bytes_60sec</th>\n",
       "    </tr>\n",
       "    <tr>\n",
       "      <th>datetimeIndex</th>\n",
       "      <th></th>\n",
       "      <th></th>\n",
       "      <th></th>\n",
       "      <th></th>\n",
       "      <th></th>\n",
       "      <th></th>\n",
       "      <th></th>\n",
       "    </tr>\n",
       "  </thead>\n",
       "  <tbody>\n",
       "    <tr>\n",
       "      <th>2020-12-23 02:57:35.838</th>\n",
       "      <td>AlarmListTest_1608663455_838030</td>\n",
       "      <td>100</td>\n",
       "      <td>2020-12-23 02:57:35.838</td>\n",
       "      <td>1.0</td>\n",
       "      <td>1.0</td>\n",
       "      <td>100.0</td>\n",
       "      <td>100.0</td>\n",
       "    </tr>\n",
       "    <tr>\n",
       "      <th>2020-12-23 02:57:37.011</th>\n",
       "      <td>AlarmListTest_1608663457_011107</td>\n",
       "      <td>10786</td>\n",
       "      <td>2020-12-23 02:57:37.011</td>\n",
       "      <td>1.0</td>\n",
       "      <td>2.0</td>\n",
       "      <td>10786.0</td>\n",
       "      <td>10886.0</td>\n",
       "    </tr>\n",
       "    <tr>\n",
       "      <th>2020-12-23 02:57:43.417</th>\n",
       "      <td>AlarmListTest_1608663463_417482</td>\n",
       "      <td>111111</td>\n",
       "      <td>2020-12-23 02:57:43.417</td>\n",
       "      <td>1.0</td>\n",
       "      <td>3.0</td>\n",
       "      <td>111111.0</td>\n",
       "      <td>121997.0</td>\n",
       "    </tr>\n",
       "    <tr>\n",
       "      <th>2020-12-23 02:57:45.435</th>\n",
       "      <td>AlarmListTest_1608663465_435941</td>\n",
       "      <td>1127</td>\n",
       "      <td>2020-12-23 02:57:45.435</td>\n",
       "      <td>1.0</td>\n",
       "      <td>4.0</td>\n",
       "      <td>1127.0</td>\n",
       "      <td>123124.0</td>\n",
       "    </tr>\n",
       "    <tr>\n",
       "      <th>2020-12-23 02:57:46.343</th>\n",
       "      <td>AlarmListTest_1608663466_343256</td>\n",
       "      <td>8600</td>\n",
       "      <td>2020-12-23 02:57:46.343</td>\n",
       "      <td>2.0</td>\n",
       "      <td>5.0</td>\n",
       "      <td>9727.0</td>\n",
       "      <td>131724.0</td>\n",
       "    </tr>\n",
       "  </tbody>\n",
       "</table>\n",
       "</div>"
      ],
      "text/plain": [
       "                                                FileName  FileSize_Bytes  \\\n",
       "datetimeIndex                                                              \n",
       "2020-12-23 02:57:35.838  AlarmListTest_1608663455_838030             100   \n",
       "2020-12-23 02:57:37.011  AlarmListTest_1608663457_011107           10786   \n",
       "2020-12-23 02:57:43.417  AlarmListTest_1608663463_417482          111111   \n",
       "2020-12-23 02:57:45.435  AlarmListTest_1608663465_435941            1127   \n",
       "2020-12-23 02:57:46.343  AlarmListTest_1608663466_343256            8600   \n",
       "\n",
       "                              DATETIME_RECEIVED  fileCount_01sec  \\\n",
       "datetimeIndex                                                      \n",
       "2020-12-23 02:57:35.838 2020-12-23 02:57:35.838              1.0   \n",
       "2020-12-23 02:57:37.011 2020-12-23 02:57:37.011              1.0   \n",
       "2020-12-23 02:57:43.417 2020-12-23 02:57:43.417              1.0   \n",
       "2020-12-23 02:57:45.435 2020-12-23 02:57:45.435              1.0   \n",
       "2020-12-23 02:57:46.343 2020-12-23 02:57:46.343              2.0   \n",
       "\n",
       "                         fileCount_60sec  fileSize_Bytes_01sec  \\\n",
       "datetimeIndex                                                    \n",
       "2020-12-23 02:57:35.838              1.0                 100.0   \n",
       "2020-12-23 02:57:37.011              2.0               10786.0   \n",
       "2020-12-23 02:57:43.417              3.0              111111.0   \n",
       "2020-12-23 02:57:45.435              4.0                1127.0   \n",
       "2020-12-23 02:57:46.343              5.0                9727.0   \n",
       "\n",
       "                         fileSize_Bytes_60sec  \n",
       "datetimeIndex                                  \n",
       "2020-12-23 02:57:35.838                 100.0  \n",
       "2020-12-23 02:57:37.011               10886.0  \n",
       "2020-12-23 02:57:43.417              121997.0  \n",
       "2020-12-23 02:57:45.435              123124.0  \n",
       "2020-12-23 02:57:46.343              131724.0  "
      ]
     },
     "execution_count": 12,
     "metadata": {},
     "output_type": "execute_result"
    }
   ],
   "source": [
    "# Sum total file size within window period\n",
    "df[\"fileSize_Bytes_01sec\"] = df[\"FileSize_Bytes\"].rolling('1s').sum()\n",
    "df[\"fileSize_Bytes_60sec\"] = df[\"FileSize_Bytes\"].rolling('60s').sum()\n",
    "\n",
    "# Inspect data sample\n",
    "df.head()"
   ]
  },
  {
   "cell_type": "markdown",
   "metadata": {},
   "source": [
    "## Print Summary Stats"
   ]
  },
  {
   "cell_type": "code",
   "execution_count": 13,
   "metadata": {},
   "outputs": [
    {
     "data": {
      "text/html": [
       "<div>\n",
       "<style scoped>\n",
       "    .dataframe tbody tr th:only-of-type {\n",
       "        vertical-align: middle;\n",
       "    }\n",
       "\n",
       "    .dataframe tbody tr th {\n",
       "        vertical-align: top;\n",
       "    }\n",
       "\n",
       "    .dataframe thead th {\n",
       "        text-align: right;\n",
       "    }\n",
       "</style>\n",
       "<table border=\"1\" class=\"dataframe\">\n",
       "  <thead>\n",
       "    <tr style=\"text-align: right;\">\n",
       "      <th></th>\n",
       "      <th>FileSize_Bytes</th>\n",
       "      <th>fileCount_01sec</th>\n",
       "      <th>fileCount_60sec</th>\n",
       "      <th>fileSize_Bytes_01sec</th>\n",
       "      <th>fileSize_Bytes_60sec</th>\n",
       "    </tr>\n",
       "  </thead>\n",
       "  <tbody>\n",
       "    <tr>\n",
       "      <th>count</th>\n",
       "      <td>523236.000000</td>\n",
       "      <td>523236.000000</td>\n",
       "      <td>523236.000000</td>\n",
       "      <td>523236.000000</td>\n",
       "      <td>5.232360e+05</td>\n",
       "    </tr>\n",
       "    <tr>\n",
       "      <th>mean</th>\n",
       "      <td>794.668456</td>\n",
       "      <td>1.106065</td>\n",
       "      <td>12.127184</td>\n",
       "      <td>904.614906</td>\n",
       "      <td>1.050424e+04</td>\n",
       "    </tr>\n",
       "    <tr>\n",
       "      <th>std</th>\n",
       "      <td>988.605176</td>\n",
       "      <td>0.356091</td>\n",
       "      <td>6.807775</td>\n",
       "      <td>1334.712296</td>\n",
       "      <td>1.562253e+04</td>\n",
       "    </tr>\n",
       "    <tr>\n",
       "      <th>min</th>\n",
       "      <td>100.000000</td>\n",
       "      <td>1.000000</td>\n",
       "      <td>1.000000</td>\n",
       "      <td>100.000000</td>\n",
       "      <td>1.000000e+02</td>\n",
       "    </tr>\n",
       "    <tr>\n",
       "      <th>25%</th>\n",
       "      <td>629.000000</td>\n",
       "      <td>1.000000</td>\n",
       "      <td>8.000000</td>\n",
       "      <td>629.000000</td>\n",
       "      <td>5.555000e+03</td>\n",
       "    </tr>\n",
       "    <tr>\n",
       "      <th>50%</th>\n",
       "      <td>631.000000</td>\n",
       "      <td>1.000000</td>\n",
       "      <td>11.000000</td>\n",
       "      <td>631.000000</td>\n",
       "      <td>7.786000e+03</td>\n",
       "    </tr>\n",
       "    <tr>\n",
       "      <th>75%</th>\n",
       "      <td>639.000000</td>\n",
       "      <td>1.000000</td>\n",
       "      <td>14.000000</td>\n",
       "      <td>1126.000000</td>\n",
       "      <td>1.094700e+04</td>\n",
       "    </tr>\n",
       "    <tr>\n",
       "      <th>max</th>\n",
       "      <td>250715.000000</td>\n",
       "      <td>4.000000</td>\n",
       "      <td>60.000000</td>\n",
       "      <td>256258.000000</td>\n",
       "      <td>1.005740e+06</td>\n",
       "    </tr>\n",
       "  </tbody>\n",
       "</table>\n",
       "</div>"
      ],
      "text/plain": [
       "       FileSize_Bytes  fileCount_01sec  fileCount_60sec  fileSize_Bytes_01sec  \\\n",
       "count   523236.000000    523236.000000    523236.000000         523236.000000   \n",
       "mean       794.668456         1.106065        12.127184            904.614906   \n",
       "std        988.605176         0.356091         6.807775           1334.712296   \n",
       "min        100.000000         1.000000         1.000000            100.000000   \n",
       "25%        629.000000         1.000000         8.000000            629.000000   \n",
       "50%        631.000000         1.000000        11.000000            631.000000   \n",
       "75%        639.000000         1.000000        14.000000           1126.000000   \n",
       "max     250715.000000         4.000000        60.000000         256258.000000   \n",
       "\n",
       "       fileSize_Bytes_60sec  \n",
       "count          5.232360e+05  \n",
       "mean           1.050424e+04  \n",
       "std            1.562253e+04  \n",
       "min            1.000000e+02  \n",
       "25%            5.555000e+03  \n",
       "50%            7.786000e+03  \n",
       "75%            1.094700e+04  \n",
       "max            1.005740e+06  "
      ]
     },
     "execution_count": 13,
     "metadata": {},
     "output_type": "execute_result"
    }
   ],
   "source": [
    "# Generate Summary Stats\n",
    "df.describe()"
   ]
  },
  {
   "cell_type": "code",
   "execution_count": 14,
   "metadata": {},
   "outputs": [
    {
     "name": "stdout",
     "output_type": "stream",
     "text": [
      "SUMMARY STATS\n",
      "\n",
      "===============\n",
      "\n",
      "FileSize_Bytes\n",
      "Mean: 794.66846\n",
      "25th Percentile: 629.0\n",
      "Median: 631.0\n",
      "75th Percentile: 639.0\n",
      "90th Percentile: 1151.0\n",
      "95th Percentile: 1151.0\n",
      "Min: 100\n",
      "Max: 250715\n",
      "\n",
      "===============\n",
      "\n",
      "fileCount_01sec\n",
      "Mean: 1.10606\n",
      "25th Percentile: 1.0\n",
      "Median: 1.0\n",
      "75th Percentile: 1.0\n",
      "90th Percentile: 2.0\n",
      "95th Percentile: 2.0\n",
      "Min: 1.0\n",
      "Max: 4.0\n",
      "\n",
      "===============\n",
      "\n",
      "fileCount_60sec\n",
      "Mean: 12.12718\n",
      "25th Percentile: 8.0\n",
      "Median: 11.0\n",
      "75th Percentile: 14.0\n",
      "90th Percentile: 27.0\n",
      "95th Percentile: 27.0\n",
      "Min: 1.0\n",
      "Max: 60.0\n",
      "\n",
      "===============\n",
      "\n",
      "fileSize_Bytes_01sec\n",
      "Mean: 904.61491\n",
      "25th Percentile: 629.0\n",
      "Median: 631.0\n",
      "75th Percentile: 1126.0\n",
      "90th Percentile: 1784.0\n",
      "95th Percentile: 1784.0\n",
      "Min: 100.0\n",
      "Max: 256258.0\n",
      "\n",
      "===============\n",
      "\n",
      "fileSize_Bytes_60sec\n",
      "Mean: 10504.24461\n",
      "25th Percentile: 5555.0\n",
      "Median: 7786.0\n",
      "75th Percentile: 10947.0\n",
      "90th Percentile: 29434.0\n",
      "95th Percentile: 29434.0\n",
      "Min: 100.0\n",
      "Max: 1005740.0\n",
      "\n",
      "===============\n",
      "\n"
     ]
    }
   ],
   "source": [
    "relevantCol = df.select_dtypes(['int64', 'float']).columns\n",
    "print(\"SUMMARY STATS\")\n",
    "print()\n",
    "print(\"===============\")\n",
    "print()\n",
    "n = 0\n",
    "while n < len(relevantCol):\n",
    "    print(relevantCol[n])\n",
    "    print(\"Mean:\", str(round(df[relevantCol[n]].mean(), 5)))\n",
    "    print(\"25th Percentile:\", str(round(df[relevantCol[n]].quantile(.25), 5)))\n",
    "    print(\"Median:\", str(round(df[relevantCol[n]].median(), 5)))\n",
    "    print(\"75th Percentile:\", str(round(df[relevantCol[n]].quantile(.75), 5)))\n",
    "    print(\"90th Percentile:\", str(round(df[relevantCol[n]].quantile(.95), 5)))\n",
    "    print(\"95th Percentile:\", str(round(df[relevantCol[n]].quantile(.95), 5)))\n",
    "    print(\"Min:\", str(round(df[relevantCol[n]].min(), 5)))\n",
    "    print(\"Max:\", str(round(df[relevantCol[n]].max(), 5)))\n",
    "    print()\n",
    "    print(\"===============\")\n",
    "    print()\n",
    "    n = n + 1"
   ]
  },
  {
   "cell_type": "code",
   "execution_count": 15,
   "metadata": {},
   "outputs": [
    {
     "name": "stdout",
     "output_type": "stream",
     "text": [
      "<class 'pandas.core.frame.DataFrame'>\n",
      "DatetimeIndex: 523236 entries, 2020-12-23 02:57:35.838000 to 2021-02-01 02:18:11.502000\n",
      "Data columns (total 7 columns):\n",
      " #   Column                Non-Null Count   Dtype         \n",
      "---  ------                --------------   -----         \n",
      " 0   FileName              523236 non-null  object        \n",
      " 1   FileSize_Bytes        523236 non-null  int64         \n",
      " 2   DATETIME_RECEIVED     523236 non-null  datetime64[ns]\n",
      " 3   fileCount_01sec       523236 non-null  float64       \n",
      " 4   fileCount_60sec       523236 non-null  float64       \n",
      " 5   fileSize_Bytes_01sec  523236 non-null  float64       \n",
      " 6   fileSize_Bytes_60sec  523236 non-null  float64       \n",
      "dtypes: datetime64[ns](1), float64(4), int64(1), object(1)\n",
      "memory usage: 31.9+ MB\n"
     ]
    }
   ],
   "source": [
    "# Inspect data structure\n",
    "df.info()"
   ]
  },
  {
   "cell_type": "code",
   "execution_count": null,
   "metadata": {},
   "outputs": [],
   "source": []
  }
 ],
 "metadata": {
  "kernelspec": {
   "display_name": "Python 3 (ipykernel)",
   "language": "python",
   "name": "python3"
  },
  "language_info": {
   "codemirror_mode": {
    "name": "ipython",
    "version": 3
   },
   "file_extension": ".py",
   "mimetype": "text/x-python",
   "name": "python",
   "nbconvert_exporter": "python",
   "pygments_lexer": "ipython3",
   "version": "3.9.7"
  }
 },
 "nbformat": 4,
 "nbformat_minor": 4
}
