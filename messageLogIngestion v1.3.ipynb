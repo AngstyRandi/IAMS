{
 "cells": [
  {
   "cell_type": "markdown",
   "metadata": {},
   "source": [
    "# Documentation\n",
    "\n",
    "## Objective(s)\n",
    "1. Ingest in partially processed message log and clean it up"
   ]
  },
  {
   "cell_type": "markdown",
   "metadata": {},
   "source": [
    "# Initialisation"
   ]
  },
  {
   "cell_type": "markdown",
   "metadata": {},
   "source": [
    "## Load Libraries"
   ]
  },
  {
   "cell_type": "code",
   "execution_count": 1,
   "metadata": {},
   "outputs": [
    {
     "name": "stdout",
     "output_type": "stream",
     "text": [
      "Requirement already up-to-date: pandas in c:\\users\\cftfda01\\appdata\\roaming\\python\\python38\\site-packages (1.2.1)\n",
      "Requirement already satisfied, skipping upgrade: pytz>=2017.3 in c:\\programdata\\anaconda3\\lib\\site-packages (from pandas) (2020.1)\n",
      "Requirement already satisfied, skipping upgrade: numpy>=1.16.5 in c:\\programdata\\anaconda3\\lib\\site-packages (from pandas) (1.19.2)\n",
      "Requirement already satisfied, skipping upgrade: python-dateutil>=2.7.3 in c:\\programdata\\anaconda3\\lib\\site-packages (from pandas) (2.8.1)\n",
      "Requirement already satisfied, skipping upgrade: six>=1.5 in c:\\programdata\\anaconda3\\lib\\site-packages (from python-dateutil>=2.7.3->pandas) (1.15.0)\n",
      "Note: you may need to restart the kernel to use updated packages.\n"
     ]
    }
   ],
   "source": [
    "pip install --user --upgrade pandas\n"
   ]
  },
  {
   "cell_type": "code",
   "execution_count": 2,
   "metadata": {},
   "outputs": [],
   "source": [
    "# Install a pip package in the current Jupyter kernel\n",
    "import sys\n",
    "#!{sys.executable} -m pip install schedule"
   ]
  },
  {
   "cell_type": "code",
   "execution_count": 3,
   "metadata": {},
   "outputs": [],
   "source": [
    "# Import libraries\n",
    "import pandas as pd\n",
    "import numpy as np\n",
    "import os\n",
    "import pathlib\n",
    "import datetime as dt\n",
    "import time"
   ]
  },
  {
   "cell_type": "markdown",
   "metadata": {},
   "source": [
    "## Set Options"
   ]
  },
  {
   "cell_type": "code",
   "execution_count": 4,
   "metadata": {},
   "outputs": [],
   "source": [
    "# Enable display of all columns for dataframes with many variables\n",
    "pd.set_option('display.max_columns', None)"
   ]
  },
  {
   "cell_type": "markdown",
   "metadata": {},
   "source": [
    "## Set Up Core Directories"
   ]
  },
  {
   "cell_type": "code",
   "execution_count": 5,
   "metadata": {},
   "outputs": [
    {
     "data": {
      "text/plain": [
       "'C:\\\\Users\\\\cftfda01\\\\Documents\\\\SBST Train IAMS Project\\\\scripts'"
      ]
     },
     "execution_count": 5,
     "metadata": {},
     "output_type": "execute_result"
    }
   ],
   "source": [
    "# Check current directory location\n",
    "cwd = os.getcwd()\n",
    "cwd"
   ]
  },
  {
   "cell_type": "code",
   "execution_count": 6,
   "metadata": {},
   "outputs": [
    {
     "data": {
      "text/plain": [
       "'C:\\\\Users\\\\cftfda01\\\\Documents\\\\SBST Train IAMS Project\\\\alarm-event-logs'"
      ]
     },
     "execution_count": 6,
     "metadata": {},
     "output_type": "execute_result"
    }
   ],
   "source": [
    "# Define root file directory folder where the files are being stored\n",
    "#os.chdir(cwd + alarmLoc)\n",
    "os.chdir(os.path.dirname(os.getcwd()) + '\\\\alarm-event-logs')\n",
    "\n",
    "# Check current directory location\n",
    "cwd = os.getcwd()\n",
    "\n",
    "# Check directory location\n",
    "cwd"
   ]
  },
  {
   "cell_type": "code",
   "execution_count": 7,
   "metadata": {},
   "outputs": [
    {
     "data": {
      "text/plain": [
       "['alarmLog',\n",
       " 'dataCleaned',\n",
       " 'dummyLog',\n",
       " 'dummyLog - Holding',\n",
       " 'eventLog',\n",
       " 'Original Sample from 27 Oct 2020 (simplified)',\n",
       " 'Sample from 27 Oct 2020 (OG).zip',\n",
       " 'testLog']"
      ]
     },
     "execution_count": 7,
     "metadata": {},
     "output_type": "execute_result"
    }
   ],
   "source": [
    "# Create Directory for Output Files Generated\n",
    "if not os.path.exists('dataCleaned'):\n",
    "    os.makedirs('dataCleaned')\n",
    "    \n",
    "# Inspect files in directory\n",
    "fileList = os.listdir()\n",
    "fileList"
   ]
  },
  {
   "cell_type": "code",
   "execution_count": 8,
   "metadata": {},
   "outputs": [],
   "source": [
    "# Location of Alarm and Normal Event Files\n",
    "testLoc = '\\\\testLog'"
   ]
  },
  {
   "cell_type": "markdown",
   "metadata": {},
   "source": [
    "## Access Files to be Processed"
   ]
  },
  {
   "cell_type": "code",
   "execution_count": 9,
   "metadata": {},
   "outputs": [
    {
     "data": {
      "text/plain": [
       "'C:\\\\Users\\\\cftfda01\\\\Documents\\\\SBST Train IAMS Project\\\\alarm-event-logs\\\\testLog'"
      ]
     },
     "execution_count": 9,
     "metadata": {},
     "output_type": "execute_result"
    }
   ],
   "source": [
    "# Define root file directory folder where the files are being stored\n",
    "os.chdir(cwd + testLoc)\n",
    "\n",
    "\n",
    "# Check directory location\n",
    "os.getcwd()"
   ]
  },
  {
   "cell_type": "code",
   "execution_count": 10,
   "metadata": {},
   "outputs": [
    {
     "data": {
      "text/plain": [
       "['cleaningTest.csv', 'Event_Msg_Extract_b-001.csv', 'Messagelog_Test-001b.csv']"
      ]
     },
     "execution_count": 10,
     "metadata": {},
     "output_type": "execute_result"
    }
   ],
   "source": [
    "# Get the list of all files in directory tree at given path\n",
    "fileList = list()\n",
    "for (dirpath, dirnames, filenames) in os.walk(os.getcwd()):\n",
    "    #fileList += [os.path.join(dirpath, file) for file in filenames] # use this if you want to append full URL\n",
    "    fileList += filenames\n",
    "    \n",
    "# Inspect data\n",
    "fileList"
   ]
  },
  {
   "cell_type": "markdown",
   "metadata": {},
   "source": [
    "# Start File Processing (Single File)"
   ]
  },
  {
   "cell_type": "markdown",
   "metadata": {},
   "source": [
    "## Define List of Stopwords"
   ]
  },
  {
   "cell_type": "code",
   "execution_count": 11,
   "metadata": {},
   "outputs": [],
   "source": [
    "# Define Key Location Names\n",
    "locNames = (\n",
    "            ('NED', ''),\n",
    "            ('FRP', ''),\n",
    "            ('SKG', ''),\n",
    "            ('HGN', ''),\n",
    "            ('KVN', ''),\n",
    "            ('SER', ''),\n",
    "            ('HBF', ''),\n",
    "            ('DBG', ''),\n",
    "            ('OTP', ''),\n",
    "            ('CNT', ''),\n",
    "            ('LTI', ''),\n",
    "            ('CQY', ''),\n",
    "            ('BGK', ''),\n",
    "            ('OCC', ''),\n",
    "            ('WLH', ''),\n",
    "            ('PTP', ''),\n",
    "            ('BNK', ''),\n",
    "            ('PGL', ''),\n",
    "            ('TUNNEL', '')\n",
    "            )"
   ]
  },
  {
   "cell_type": "markdown",
   "metadata": {},
   "source": [
    "## Process Alarm Files"
   ]
  },
  {
   "cell_type": "markdown",
   "metadata": {},
   "source": [
    "### Ingest Partially Processed File"
   ]
  },
  {
   "cell_type": "code",
   "execution_count": 12,
   "metadata": {},
   "outputs": [],
   "source": [
    "# Define File Name\n",
    "fileName = fileList[2]"
   ]
  },
  {
   "cell_type": "code",
   "execution_count": 13,
   "metadata": {},
   "outputs": [
    {
     "name": "stdout",
     "output_type": "stream",
     "text": [
      "<class 'pandas.core.frame.DataFrame'>\n",
      "RangeIndex: 3216 entries, 0 to 3215\n",
      "Data columns (total 5 columns):\n",
      " #   Column             Non-Null Count  Dtype \n",
      "---  ------             --------------  ----- \n",
      " 0   ASSET_ID_RAW       3216 non-null   object\n",
      " 1   ASSET_DESCRIPTION  2683 non-null   object\n",
      " 2   EVENT_DESCRIPTION  3216 non-null   object\n",
      " 3   EVENT_STATUS       3215 non-null   object\n",
      " 4   OPERATOR_INITIALS  845 non-null    object\n",
      "dtypes: object(5)\n",
      "memory usage: 125.8+ KB\n"
     ]
    }
   ],
   "source": [
    "# Load File\n",
    "df = pd.read_csv(fileName)\n",
    "\n",
    "# Check Output\n",
    "df.info()"
   ]
  },
  {
   "cell_type": "code",
   "execution_count": 14,
   "metadata": {},
   "outputs": [
    {
     "data": {
      "text/html": [
       "<div>\n",
       "<style scoped>\n",
       "    .dataframe tbody tr th:only-of-type {\n",
       "        vertical-align: middle;\n",
       "    }\n",
       "\n",
       "    .dataframe tbody tr th {\n",
       "        vertical-align: top;\n",
       "    }\n",
       "\n",
       "    .dataframe thead th {\n",
       "        text-align: right;\n",
       "    }\n",
       "</style>\n",
       "<table border=\"1\" class=\"dataframe\">\n",
       "  <thead>\n",
       "    <tr style=\"text-align: right;\">\n",
       "      <th></th>\n",
       "      <th>ASSET_ID_RAW</th>\n",
       "      <th>ASSET_DESCRIPTION</th>\n",
       "      <th>EVENT_DESCRIPTION</th>\n",
       "      <th>EVENT_STATUS</th>\n",
       "      <th>OPERATOR_INITIALS</th>\n",
       "    </tr>\n",
       "  </thead>\n",
       "  <tbody>\n",
       "    <tr>\n",
       "      <th>0</th>\n",
       "      <td>OCC_LENV_CMS_</td>\n",
       "      <td>CMS SCS Server - Environment OCCCMS</td>\n",
       "      <td>Environment 1 Status</td>\n",
       "      <td>HOT</td>\n",
       "      <td>NaN</td>\n",
       "    </tr>\n",
       "    <tr>\n",
       "      <th>1</th>\n",
       "      <td>COM/SER/B1/CAM20</td>\n",
       "      <td>SER:208 LWY1</td>\n",
       "      <td>Status</td>\n",
       "      <td>FAILURE</td>\n",
       "      <td>NaN</td>\n",
       "    </tr>\n",
       "    <tr>\n",
       "      <th>2</th>\n",
       "      <td>COM/BNK/B1/PABX01</td>\n",
       "      <td>PABX</td>\n",
       "      <td>Fan 1 Status</td>\n",
       "      <td>FAILURE</td>\n",
       "      <td>NaN</td>\n",
       "    </tr>\n",
       "    <tr>\n",
       "      <th>3</th>\n",
       "      <td>COM/DBG/B2/CAM57</td>\n",
       "      <td>DBG:424 AFG 3</td>\n",
       "      <td>Status</td>\n",
       "      <td>FAILURE</td>\n",
       "      <td>NaN</td>\n",
       "    </tr>\n",
       "    <tr>\n",
       "      <th>4</th>\n",
       "      <td>COM/SER/B1/CAM20</td>\n",
       "      <td>SER:208 LWY1</td>\n",
       "      <td>Status</td>\n",
       "      <td>NORMAL</td>\n",
       "      <td>NaN</td>\n",
       "    </tr>\n",
       "  </tbody>\n",
       "</table>\n",
       "</div>"
      ],
      "text/plain": [
       "        ASSET_ID_RAW                    ASSET_DESCRIPTION  \\\n",
       "0      OCC_LENV_CMS_  CMS SCS Server - Environment OCCCMS   \n",
       "1   COM/SER/B1/CAM20                         SER:208 LWY1   \n",
       "2  COM/BNK/B1/PABX01                                 PABX   \n",
       "3   COM/DBG/B2/CAM57                        DBG:424 AFG 3   \n",
       "4   COM/SER/B1/CAM20                         SER:208 LWY1   \n",
       "\n",
       "      EVENT_DESCRIPTION EVENT_STATUS OPERATOR_INITIALS  \n",
       "0  Environment 1 Status          HOT               NaN  \n",
       "1                Status      FAILURE               NaN  \n",
       "2          Fan 1 Status      FAILURE               NaN  \n",
       "3                Status      FAILURE               NaN  \n",
       "4                Status       NORMAL               NaN  "
      ]
     },
     "execution_count": 14,
     "metadata": {},
     "output_type": "execute_result"
    }
   ],
   "source": [
    "# Check Output\n",
    "df.head()"
   ]
  },
  {
   "cell_type": "markdown",
   "metadata": {},
   "source": [
    "### Clean Up Data"
   ]
  },
  {
   "cell_type": "markdown",
   "metadata": {},
   "source": [
    "#### GWS Data"
   ]
  },
  {
   "cell_type": "code",
   "execution_count": 15,
   "metadata": {},
   "outputs": [
    {
     "data": {
      "text/html": [
       "<div>\n",
       "<style scoped>\n",
       "    .dataframe tbody tr th:only-of-type {\n",
       "        vertical-align: middle;\n",
       "    }\n",
       "\n",
       "    .dataframe tbody tr th {\n",
       "        vertical-align: top;\n",
       "    }\n",
       "\n",
       "    .dataframe thead th {\n",
       "        text-align: right;\n",
       "    }\n",
       "</style>\n",
       "<table border=\"1\" class=\"dataframe\">\n",
       "  <thead>\n",
       "    <tr style=\"text-align: right;\">\n",
       "      <th></th>\n",
       "      <th>ASSET_ID_RAW</th>\n",
       "      <th>ASSET_DESCRIPTION</th>\n",
       "      <th>EVENT_DESCRIPTION</th>\n",
       "      <th>EVENT_STATUS</th>\n",
       "      <th>OPERATOR_INITIALS</th>\n",
       "    </tr>\n",
       "  </thead>\n",
       "  <tbody>\n",
       "    <tr>\n",
       "      <th>1890</th>\n",
       "      <td>OCC_ANNO_0001</td>\n",
       "      <td>NaN</td>\n",
       "      <td>Gws 5 starts DVA bcast msg 599 in cars 69/301</td>\n",
       "      <td>Executed</td>\n",
       "      <td>NBC</td>\n",
       "    </tr>\n",
       "    <tr>\n",
       "      <th>1891</th>\n",
       "      <td>OCC_ANNO_0001</td>\n",
       "      <td>NaN</td>\n",
       "      <td>Gws 0 suspends DVA bcast msg 599 in cars 69/301</td>\n",
       "      <td>Executed</td>\n",
       "      <td>NaN</td>\n",
       "    </tr>\n",
       "    <tr>\n",
       "      <th>1893</th>\n",
       "      <td>OCC_ANNO_0001</td>\n",
       "      <td>NaN</td>\n",
       "      <td>Gws 5 stops DVA bcast msg 599 in cars 69/301</td>\n",
       "      <td>Executed</td>\n",
       "      <td>NBC</td>\n",
       "    </tr>\n",
       "    <tr>\n",
       "      <th>1894</th>\n",
       "      <td>OCC_ANNO_0001</td>\n",
       "      <td>NaN</td>\n",
       "      <td>Gws 5 starts DVA bcast msg 599 in cars 51/330</td>\n",
       "      <td>Executed</td>\n",
       "      <td>NBC</td>\n",
       "    </tr>\n",
       "    <tr>\n",
       "      <th>1895</th>\n",
       "      <td>OCC_ANNO_0001</td>\n",
       "      <td>NaN</td>\n",
       "      <td>Gws 0 suspends DVA bcast msg 599 in cars 51/330</td>\n",
       "      <td>Executed</td>\n",
       "      <td>NaN</td>\n",
       "    </tr>\n",
       "  </tbody>\n",
       "</table>\n",
       "</div>"
      ],
      "text/plain": [
       "       ASSET_ID_RAW ASSET_DESCRIPTION  \\\n",
       "1890  OCC_ANNO_0001               NaN   \n",
       "1891  OCC_ANNO_0001               NaN   \n",
       "1893  OCC_ANNO_0001               NaN   \n",
       "1894  OCC_ANNO_0001               NaN   \n",
       "1895  OCC_ANNO_0001               NaN   \n",
       "\n",
       "                                    EVENT_DESCRIPTION EVENT_STATUS  \\\n",
       "1890    Gws 5 starts DVA bcast msg 599 in cars 69/301     Executed   \n",
       "1891  Gws 0 suspends DVA bcast msg 599 in cars 69/301     Executed   \n",
       "1893     Gws 5 stops DVA bcast msg 599 in cars 69/301     Executed   \n",
       "1894    Gws 5 starts DVA bcast msg 599 in cars 51/330     Executed   \n",
       "1895  Gws 0 suspends DVA bcast msg 599 in cars 51/330     Executed   \n",
       "\n",
       "     OPERATOR_INITIALS  \n",
       "1890               NBC  \n",
       "1891               NaN  \n",
       "1893               NBC  \n",
       "1894               NBC  \n",
       "1895               NaN  "
      ]
     },
     "execution_count": 15,
     "metadata": {},
     "output_type": "execute_result"
    }
   ],
   "source": [
    "df.loc[(df[\"EVENT_DESCRIPTION\"].str.contains(\"msg\")) & (df[\"EVENT_DESCRIPTION\"].str.contains(\"Gws\"))].head()"
   ]
  },
  {
   "cell_type": "code",
   "execution_count": 16,
   "metadata": {},
   "outputs": [
    {
     "data": {
      "text/plain": [
       "(369, 5)"
      ]
     },
     "execution_count": 16,
     "metadata": {},
     "output_type": "execute_result"
    }
   ],
   "source": [
    "df.loc[(df[\"EVENT_DESCRIPTION\"].str.contains(\"msg\")) & (df[\"EVENT_DESCRIPTION\"].str.contains(\"Gws\"))].shape"
   ]
  },
  {
   "cell_type": "code",
   "execution_count": 17,
   "metadata": {},
   "outputs": [
    {
     "data": {
      "text/html": [
       "<div>\n",
       "<style scoped>\n",
       "    .dataframe tbody tr th:only-of-type {\n",
       "        vertical-align: middle;\n",
       "    }\n",
       "\n",
       "    .dataframe tbody tr th {\n",
       "        vertical-align: top;\n",
       "    }\n",
       "\n",
       "    .dataframe thead th {\n",
       "        text-align: right;\n",
       "    }\n",
       "</style>\n",
       "<table border=\"1\" class=\"dataframe\">\n",
       "  <thead>\n",
       "    <tr style=\"text-align: right;\">\n",
       "      <th></th>\n",
       "      <th>ASSET_ID_RAW</th>\n",
       "      <th>ASSET_DESCRIPTION</th>\n",
       "      <th>EVENT_DESCRIPTION</th>\n",
       "      <th>EVENT_STATUS</th>\n",
       "      <th>OPERATOR_INITIALS</th>\n",
       "    </tr>\n",
       "  </thead>\n",
       "  <tbody>\n",
       "    <tr>\n",
       "      <th>1890</th>\n",
       "      <td>OCC_ANNO_0001</td>\n",
       "      <td>GWS Broadcast</td>\n",
       "      <td>Gws 5 starts DVA bcast msg 599 in cars 69/301</td>\n",
       "      <td>Executed</td>\n",
       "      <td>NBC</td>\n",
       "    </tr>\n",
       "    <tr>\n",
       "      <th>1891</th>\n",
       "      <td>OCC_ANNO_0001</td>\n",
       "      <td>GWS Broadcast</td>\n",
       "      <td>Gws 0 suspends DVA bcast msg 599 in cars 69/301</td>\n",
       "      <td>Executed</td>\n",
       "      <td>NaN</td>\n",
       "    </tr>\n",
       "    <tr>\n",
       "      <th>1893</th>\n",
       "      <td>OCC_ANNO_0001</td>\n",
       "      <td>GWS Broadcast</td>\n",
       "      <td>Gws 5 stops DVA bcast msg 599 in cars 69/301</td>\n",
       "      <td>Executed</td>\n",
       "      <td>NBC</td>\n",
       "    </tr>\n",
       "    <tr>\n",
       "      <th>1894</th>\n",
       "      <td>OCC_ANNO_0001</td>\n",
       "      <td>GWS Broadcast</td>\n",
       "      <td>Gws 5 starts DVA bcast msg 599 in cars 51/330</td>\n",
       "      <td>Executed</td>\n",
       "      <td>NBC</td>\n",
       "    </tr>\n",
       "    <tr>\n",
       "      <th>1895</th>\n",
       "      <td>OCC_ANNO_0001</td>\n",
       "      <td>GWS Broadcast</td>\n",
       "      <td>Gws 0 suspends DVA bcast msg 599 in cars 51/330</td>\n",
       "      <td>Executed</td>\n",
       "      <td>NaN</td>\n",
       "    </tr>\n",
       "  </tbody>\n",
       "</table>\n",
       "</div>"
      ],
      "text/plain": [
       "       ASSET_ID_RAW ASSET_DESCRIPTION  \\\n",
       "1890  OCC_ANNO_0001     GWS Broadcast   \n",
       "1891  OCC_ANNO_0001     GWS Broadcast   \n",
       "1893  OCC_ANNO_0001     GWS Broadcast   \n",
       "1894  OCC_ANNO_0001     GWS Broadcast   \n",
       "1895  OCC_ANNO_0001     GWS Broadcast   \n",
       "\n",
       "                                    EVENT_DESCRIPTION EVENT_STATUS  \\\n",
       "1890    Gws 5 starts DVA bcast msg 599 in cars 69/301     Executed   \n",
       "1891  Gws 0 suspends DVA bcast msg 599 in cars 69/301     Executed   \n",
       "1893     Gws 5 stops DVA bcast msg 599 in cars 69/301     Executed   \n",
       "1894    Gws 5 starts DVA bcast msg 599 in cars 51/330     Executed   \n",
       "1895  Gws 0 suspends DVA bcast msg 599 in cars 51/330     Executed   \n",
       "\n",
       "     OPERATOR_INITIALS  \n",
       "1890               NBC  \n",
       "1891               NaN  \n",
       "1893               NBC  \n",
       "1894               NBC  \n",
       "1895               NaN  "
      ]
     },
     "execution_count": 17,
     "metadata": {},
     "output_type": "execute_result"
    }
   ],
   "source": [
    "# Update for \"GWS Broadcast\"\n",
    "try:\n",
    "    df.loc[(df[\"EVENT_DESCRIPTION\"].str.contains(\"msg\")) & (df[\"EVENT_DESCRIPTION\"].str.contains(\"Gws\")), \"ASSET_DESCRIPTION\"] = \"GWS Broadcast\"\n",
    "except:\n",
    "    pass\n",
    "\n",
    "# Inspect data\n",
    "df.loc[(df[\"EVENT_DESCRIPTION\"].str.contains(\"msg\")) & (df[\"EVENT_DESCRIPTION\"].str.contains(\"Gws\"))].head()"
   ]
  },
  {
   "cell_type": "code",
   "execution_count": 18,
   "metadata": {},
   "outputs": [
    {
     "data": {
      "text/plain": [
       "(369, 5)"
      ]
     },
     "execution_count": 18,
     "metadata": {},
     "output_type": "execute_result"
    }
   ],
   "source": [
    "df.loc[(df[\"EVENT_DESCRIPTION\"].str.contains(\"msg\")) & (df[\"EVENT_DESCRIPTION\"].str.contains(\"Gws\"))].shape"
   ]
  },
  {
   "cell_type": "markdown",
   "metadata": {},
   "source": [
    "#### NelVisu Data"
   ]
  },
  {
   "cell_type": "code",
   "execution_count": 19,
   "metadata": {},
   "outputs": [
    {
     "data": {
      "text/html": [
       "<div>\n",
       "<style scoped>\n",
       "    .dataframe tbody tr th:only-of-type {\n",
       "        vertical-align: middle;\n",
       "    }\n",
       "\n",
       "    .dataframe tbody tr th {\n",
       "        vertical-align: top;\n",
       "    }\n",
       "\n",
       "    .dataframe thead th {\n",
       "        text-align: right;\n",
       "    }\n",
       "</style>\n",
       "<table border=\"1\" class=\"dataframe\">\n",
       "  <thead>\n",
       "    <tr style=\"text-align: right;\">\n",
       "      <th></th>\n",
       "      <th>ASSET_ID_RAW</th>\n",
       "      <th>ASSET_DESCRIPTION</th>\n",
       "      <th>EVENT_DESCRIPTION</th>\n",
       "      <th>EVENT_STATUS</th>\n",
       "      <th>OPERATOR_INITIALS</th>\n",
       "    </tr>\n",
       "  </thead>\n",
       "  <tbody>\n",
       "    <tr>\n",
       "      <th>365</th>\n",
       "      <td>SCS/NED/1212/GWS07</td>\n",
       "      <td>NaN</td>\n",
       "      <td>Operator 755 logged in as TSR1 on NelVisu1</td>\n",
       "      <td>SUCCEEDED</td>\n",
       "      <td>755</td>\n",
       "    </tr>\n",
       "    <tr>\n",
       "      <th>371</th>\n",
       "      <td>SCS/NED/1212/GWS07</td>\n",
       "      <td>NaN</td>\n",
       "      <td>Operator 755 logged in as TSR1 on NelVisu0</td>\n",
       "      <td>SUCCEEDED</td>\n",
       "      <td>755</td>\n",
       "    </tr>\n",
       "    <tr>\n",
       "      <th>376</th>\n",
       "      <td>SCS/NED/1212/GWS07</td>\n",
       "      <td>NaN</td>\n",
       "      <td>Operator 755 logged in as TSR1 on NelVisu2</td>\n",
       "      <td>SUCCEEDED</td>\n",
       "      <td>755</td>\n",
       "    </tr>\n",
       "    <tr>\n",
       "      <th>1115</th>\n",
       "      <td>SCS/NED/1212/GWS07</td>\n",
       "      <td>NaN</td>\n",
       "      <td>Operator 755 logged out as TSR1 on NelVisu0</td>\n",
       "      <td>SUCCEEDED</td>\n",
       "      <td>755</td>\n",
       "    </tr>\n",
       "    <tr>\n",
       "      <th>1116</th>\n",
       "      <td>SCS/NED/1212/GWS07</td>\n",
       "      <td>NaN</td>\n",
       "      <td>Operator 755 logged out as TSR1 on NelVisu2</td>\n",
       "      <td>SUCCEEDED</td>\n",
       "      <td>755</td>\n",
       "    </tr>\n",
       "  </tbody>\n",
       "</table>\n",
       "</div>"
      ],
      "text/plain": [
       "            ASSET_ID_RAW ASSET_DESCRIPTION  \\\n",
       "365   SCS/NED/1212/GWS07               NaN   \n",
       "371   SCS/NED/1212/GWS07               NaN   \n",
       "376   SCS/NED/1212/GWS07               NaN   \n",
       "1115  SCS/NED/1212/GWS07               NaN   \n",
       "1116  SCS/NED/1212/GWS07               NaN   \n",
       "\n",
       "                                EVENT_DESCRIPTION EVENT_STATUS  \\\n",
       "365    Operator 755 logged in as TSR1 on NelVisu1    SUCCEEDED   \n",
       "371    Operator 755 logged in as TSR1 on NelVisu0    SUCCEEDED   \n",
       "376    Operator 755 logged in as TSR1 on NelVisu2    SUCCEEDED   \n",
       "1115  Operator 755 logged out as TSR1 on NelVisu0    SUCCEEDED   \n",
       "1116  Operator 755 logged out as TSR1 on NelVisu2    SUCCEEDED   \n",
       "\n",
       "     OPERATOR_INITIALS  \n",
       "365                755  \n",
       "371                755  \n",
       "376                755  \n",
       "1115               755  \n",
       "1116               755  "
      ]
     },
     "execution_count": 19,
     "metadata": {},
     "output_type": "execute_result"
    }
   ],
   "source": [
    "df.loc[(df[\"EVENT_DESCRIPTION\"].str.contains(\"NelVisu\"))].head()"
   ]
  },
  {
   "cell_type": "code",
   "execution_count": 20,
   "metadata": {},
   "outputs": [
    {
     "data": {
      "text/plain": [
       "(79, 5)"
      ]
     },
     "execution_count": 20,
     "metadata": {},
     "output_type": "execute_result"
    }
   ],
   "source": [
    "df.loc[(df[\"EVENT_DESCRIPTION\"].str.contains(\"NelVisu\"))].shape"
   ]
  },
  {
   "cell_type": "code",
   "execution_count": 21,
   "metadata": {},
   "outputs": [
    {
     "data": {
      "text/html": [
       "<div>\n",
       "<style scoped>\n",
       "    .dataframe tbody tr th:only-of-type {\n",
       "        vertical-align: middle;\n",
       "    }\n",
       "\n",
       "    .dataframe tbody tr th {\n",
       "        vertical-align: top;\n",
       "    }\n",
       "\n",
       "    .dataframe thead th {\n",
       "        text-align: right;\n",
       "    }\n",
       "</style>\n",
       "<table border=\"1\" class=\"dataframe\">\n",
       "  <thead>\n",
       "    <tr style=\"text-align: right;\">\n",
       "      <th></th>\n",
       "      <th>ASSET_ID_RAW</th>\n",
       "      <th>ASSET_DESCRIPTION</th>\n",
       "      <th>EVENT_DESCRIPTION</th>\n",
       "      <th>EVENT_STATUS</th>\n",
       "      <th>OPERATOR_INITIALS</th>\n",
       "    </tr>\n",
       "  </thead>\n",
       "  <tbody>\n",
       "    <tr>\n",
       "      <th>365</th>\n",
       "      <td>SCS/NED/1212/GWS07</td>\n",
       "      <td>NelVisu</td>\n",
       "      <td>Operator 755 logged in as TSR1 on NelVisu1</td>\n",
       "      <td>SUCCEEDED</td>\n",
       "      <td>755</td>\n",
       "    </tr>\n",
       "    <tr>\n",
       "      <th>371</th>\n",
       "      <td>SCS/NED/1212/GWS07</td>\n",
       "      <td>NelVisu</td>\n",
       "      <td>Operator 755 logged in as TSR1 on NelVisu0</td>\n",
       "      <td>SUCCEEDED</td>\n",
       "      <td>755</td>\n",
       "    </tr>\n",
       "    <tr>\n",
       "      <th>376</th>\n",
       "      <td>SCS/NED/1212/GWS07</td>\n",
       "      <td>NelVisu</td>\n",
       "      <td>Operator 755 logged in as TSR1 on NelVisu2</td>\n",
       "      <td>SUCCEEDED</td>\n",
       "      <td>755</td>\n",
       "    </tr>\n",
       "    <tr>\n",
       "      <th>1115</th>\n",
       "      <td>SCS/NED/1212/GWS07</td>\n",
       "      <td>NelVisu</td>\n",
       "      <td>Operator 755 logged out as TSR1 on NelVisu0</td>\n",
       "      <td>SUCCEEDED</td>\n",
       "      <td>755</td>\n",
       "    </tr>\n",
       "    <tr>\n",
       "      <th>1116</th>\n",
       "      <td>SCS/NED/1212/GWS07</td>\n",
       "      <td>NelVisu</td>\n",
       "      <td>Operator 755 logged out as TSR1 on NelVisu2</td>\n",
       "      <td>SUCCEEDED</td>\n",
       "      <td>755</td>\n",
       "    </tr>\n",
       "  </tbody>\n",
       "</table>\n",
       "</div>"
      ],
      "text/plain": [
       "            ASSET_ID_RAW ASSET_DESCRIPTION  \\\n",
       "365   SCS/NED/1212/GWS07           NelVisu   \n",
       "371   SCS/NED/1212/GWS07           NelVisu   \n",
       "376   SCS/NED/1212/GWS07           NelVisu   \n",
       "1115  SCS/NED/1212/GWS07           NelVisu   \n",
       "1116  SCS/NED/1212/GWS07           NelVisu   \n",
       "\n",
       "                                EVENT_DESCRIPTION EVENT_STATUS  \\\n",
       "365    Operator 755 logged in as TSR1 on NelVisu1    SUCCEEDED   \n",
       "371    Operator 755 logged in as TSR1 on NelVisu0    SUCCEEDED   \n",
       "376    Operator 755 logged in as TSR1 on NelVisu2    SUCCEEDED   \n",
       "1115  Operator 755 logged out as TSR1 on NelVisu0    SUCCEEDED   \n",
       "1116  Operator 755 logged out as TSR1 on NelVisu2    SUCCEEDED   \n",
       "\n",
       "     OPERATOR_INITIALS  \n",
       "365                755  \n",
       "371                755  \n",
       "376                755  \n",
       "1115               755  \n",
       "1116               755  "
      ]
     },
     "execution_count": 21,
     "metadata": {},
     "output_type": "execute_result"
    }
   ],
   "source": [
    "# Update for \"NelVisu\"\n",
    "try:\n",
    "    df.loc[(df[\"EVENT_DESCRIPTION\"].str.contains(\"NelVisu\")), \"ASSET_DESCRIPTION\"] = \"NelVisu\"\n",
    "except:\n",
    "    pass\n",
    "\n",
    "# Inspect data\n",
    "df.loc[(df[\"EVENT_DESCRIPTION\"].str.contains(\"NelVisu\"))].head()"
   ]
  },
  {
   "cell_type": "code",
   "execution_count": 22,
   "metadata": {},
   "outputs": [
    {
     "data": {
      "text/plain": [
       "(79, 5)"
      ]
     },
     "execution_count": 22,
     "metadata": {},
     "output_type": "execute_result"
    }
   ],
   "source": [
    "df.loc[(df[\"EVENT_DESCRIPTION\"].str.contains(\"NelVisu\"))].shape"
   ]
  },
  {
   "cell_type": "markdown",
   "metadata": {},
   "source": [
    "#### Train Radio"
   ]
  },
  {
   "cell_type": "code",
   "execution_count": 23,
   "metadata": {},
   "outputs": [
    {
     "data": {
      "text/html": [
       "<div>\n",
       "<style scoped>\n",
       "    .dataframe tbody tr th:only-of-type {\n",
       "        vertical-align: middle;\n",
       "    }\n",
       "\n",
       "    .dataframe tbody tr th {\n",
       "        vertical-align: top;\n",
       "    }\n",
       "\n",
       "    .dataframe thead th {\n",
       "        text-align: right;\n",
       "    }\n",
       "</style>\n",
       "<table border=\"1\" class=\"dataframe\">\n",
       "  <thead>\n",
       "    <tr style=\"text-align: right;\">\n",
       "      <th></th>\n",
       "      <th>ASSET_ID_RAW</th>\n",
       "      <th>ASSET_DESCRIPTION</th>\n",
       "      <th>EVENT_DESCRIPTION</th>\n",
       "      <th>EVENT_STATUS</th>\n",
       "      <th>OPERATOR_INITIALS</th>\n",
       "    </tr>\n",
       "  </thead>\n",
       "  <tbody>\n",
       "    <tr>\n",
       "      <th>2459</th>\n",
       "      <td>OCC_CCTS_0001</td>\n",
       "      <td>NaN</td>\n",
       "      <td>Free radio path for TR___0034</td>\n",
       "      <td>Executed</td>\n",
       "      <td>NBC</td>\n",
       "    </tr>\n",
       "    <tr>\n",
       "      <th>2460</th>\n",
       "      <td>OCC_CCTS_0001</td>\n",
       "      <td>NaN</td>\n",
       "      <td>Free radio path for TR___0022</td>\n",
       "      <td>Executed</td>\n",
       "      <td>NBC</td>\n",
       "    </tr>\n",
       "    <tr>\n",
       "      <th>2461</th>\n",
       "      <td>OCC_CCTS_0001</td>\n",
       "      <td>NaN</td>\n",
       "      <td>Free radio path for TR___0018</td>\n",
       "      <td>Executed</td>\n",
       "      <td>NBC</td>\n",
       "    </tr>\n",
       "    <tr>\n",
       "      <th>2462</th>\n",
       "      <td>OCC_CCTS_0001</td>\n",
       "      <td>NaN</td>\n",
       "      <td>Free radio path for TR___0006</td>\n",
       "      <td>Executed</td>\n",
       "      <td>NBC</td>\n",
       "    </tr>\n",
       "    <tr>\n",
       "      <th>2551</th>\n",
       "      <td>OCC_CCTS_0001</td>\n",
       "      <td>NaN</td>\n",
       "      <td>Free radio path for TR___0008</td>\n",
       "      <td>Executed</td>\n",
       "      <td>CCH</td>\n",
       "    </tr>\n",
       "  </tbody>\n",
       "</table>\n",
       "</div>"
      ],
      "text/plain": [
       "       ASSET_ID_RAW ASSET_DESCRIPTION              EVENT_DESCRIPTION  \\\n",
       "2459  OCC_CCTS_0001               NaN  Free radio path for TR___0034   \n",
       "2460  OCC_CCTS_0001               NaN  Free radio path for TR___0022   \n",
       "2461  OCC_CCTS_0001               NaN  Free radio path for TR___0018   \n",
       "2462  OCC_CCTS_0001               NaN  Free radio path for TR___0006   \n",
       "2551  OCC_CCTS_0001               NaN  Free radio path for TR___0008   \n",
       "\n",
       "     EVENT_STATUS OPERATOR_INITIALS  \n",
       "2459     Executed               NBC  \n",
       "2460     Executed               NBC  \n",
       "2461     Executed               NBC  \n",
       "2462     Executed               NBC  \n",
       "2551     Executed               CCH  "
      ]
     },
     "execution_count": 23,
     "metadata": {},
     "output_type": "execute_result"
    }
   ],
   "source": [
    "df.loc[(df[\"EVENT_DESCRIPTION\"].str.contains(\"TR___\")) &\n",
    "       (df[\"EVENT_DESCRIPTION\"].str.contains(\"radio\"))].head()"
   ]
  },
  {
   "cell_type": "code",
   "execution_count": 24,
   "metadata": {},
   "outputs": [
    {
     "data": {
      "text/plain": [
       "(21, 5)"
      ]
     },
     "execution_count": 24,
     "metadata": {},
     "output_type": "execute_result"
    }
   ],
   "source": [
    "df.loc[(df[\"EVENT_DESCRIPTION\"].str.contains(\"TR___\")) &\n",
    "       (df[\"EVENT_DESCRIPTION\"].str.contains(\"radio\"))].shape"
   ]
  },
  {
   "cell_type": "code",
   "execution_count": 25,
   "metadata": {},
   "outputs": [
    {
     "data": {
      "text/html": [
       "<div>\n",
       "<style scoped>\n",
       "    .dataframe tbody tr th:only-of-type {\n",
       "        vertical-align: middle;\n",
       "    }\n",
       "\n",
       "    .dataframe tbody tr th {\n",
       "        vertical-align: top;\n",
       "    }\n",
       "\n",
       "    .dataframe thead th {\n",
       "        text-align: right;\n",
       "    }\n",
       "</style>\n",
       "<table border=\"1\" class=\"dataframe\">\n",
       "  <thead>\n",
       "    <tr style=\"text-align: right;\">\n",
       "      <th></th>\n",
       "      <th>ASSET_ID_RAW</th>\n",
       "      <th>ASSET_DESCRIPTION</th>\n",
       "      <th>EVENT_DESCRIPTION</th>\n",
       "      <th>EVENT_STATUS</th>\n",
       "      <th>OPERATOR_INITIALS</th>\n",
       "    </tr>\n",
       "  </thead>\n",
       "  <tbody>\n",
       "    <tr>\n",
       "      <th>2459</th>\n",
       "      <td>OCC_CCTS_0001</td>\n",
       "      <td>Train Radio</td>\n",
       "      <td>Free radio path for TR___0034</td>\n",
       "      <td>Executed</td>\n",
       "      <td>NBC</td>\n",
       "    </tr>\n",
       "    <tr>\n",
       "      <th>2460</th>\n",
       "      <td>OCC_CCTS_0001</td>\n",
       "      <td>Train Radio</td>\n",
       "      <td>Free radio path for TR___0022</td>\n",
       "      <td>Executed</td>\n",
       "      <td>NBC</td>\n",
       "    </tr>\n",
       "    <tr>\n",
       "      <th>2461</th>\n",
       "      <td>OCC_CCTS_0001</td>\n",
       "      <td>Train Radio</td>\n",
       "      <td>Free radio path for TR___0018</td>\n",
       "      <td>Executed</td>\n",
       "      <td>NBC</td>\n",
       "    </tr>\n",
       "    <tr>\n",
       "      <th>2462</th>\n",
       "      <td>OCC_CCTS_0001</td>\n",
       "      <td>Train Radio</td>\n",
       "      <td>Free radio path for TR___0006</td>\n",
       "      <td>Executed</td>\n",
       "      <td>NBC</td>\n",
       "    </tr>\n",
       "    <tr>\n",
       "      <th>2551</th>\n",
       "      <td>OCC_CCTS_0001</td>\n",
       "      <td>Train Radio</td>\n",
       "      <td>Free radio path for TR___0008</td>\n",
       "      <td>Executed</td>\n",
       "      <td>CCH</td>\n",
       "    </tr>\n",
       "  </tbody>\n",
       "</table>\n",
       "</div>"
      ],
      "text/plain": [
       "       ASSET_ID_RAW ASSET_DESCRIPTION              EVENT_DESCRIPTION  \\\n",
       "2459  OCC_CCTS_0001       Train Radio  Free radio path for TR___0034   \n",
       "2460  OCC_CCTS_0001       Train Radio  Free radio path for TR___0022   \n",
       "2461  OCC_CCTS_0001       Train Radio  Free radio path for TR___0018   \n",
       "2462  OCC_CCTS_0001       Train Radio  Free radio path for TR___0006   \n",
       "2551  OCC_CCTS_0001       Train Radio  Free radio path for TR___0008   \n",
       "\n",
       "     EVENT_STATUS OPERATOR_INITIALS  \n",
       "2459     Executed               NBC  \n",
       "2460     Executed               NBC  \n",
       "2461     Executed               NBC  \n",
       "2462     Executed               NBC  \n",
       "2551     Executed               CCH  "
      ]
     },
     "execution_count": 25,
     "metadata": {},
     "output_type": "execute_result"
    }
   ],
   "source": [
    "# Update for Train Radio\n",
    "try:\n",
    "    df.loc[(df[\"EVENT_DESCRIPTION\"].str.contains(\"TR___\")) &\n",
    "           (df[\"EVENT_DESCRIPTION\"].str.contains(\"radio\")), \"ASSET_DESCRIPTION\"] = \"Train Radio\"\n",
    "except:\n",
    "    pass\n",
    "\n",
    "# Inspect data\n",
    "df.loc[(df[\"EVENT_DESCRIPTION\"].str.contains(\"TR___\")) &\n",
    "       (df[\"EVENT_DESCRIPTION\"].str.contains(\"radio\"))].head()"
   ]
  },
  {
   "cell_type": "code",
   "execution_count": 26,
   "metadata": {},
   "outputs": [
    {
     "data": {
      "text/plain": [
       "(21, 5)"
      ]
     },
     "execution_count": 26,
     "metadata": {},
     "output_type": "execute_result"
    }
   ],
   "source": [
    "df.loc[(df[\"EVENT_DESCRIPTION\"].str.contains(\"TR___\")) &\n",
    "       (df[\"EVENT_DESCRIPTION\"].str.contains(\"radio\"))].shape"
   ]
  },
  {
   "cell_type": "markdown",
   "metadata": {},
   "source": [
    "#### Trainborne Camera"
   ]
  },
  {
   "cell_type": "code",
   "execution_count": 27,
   "metadata": {},
   "outputs": [
    {
     "data": {
      "text/html": [
       "<div>\n",
       "<style scoped>\n",
       "    .dataframe tbody tr th:only-of-type {\n",
       "        vertical-align: middle;\n",
       "    }\n",
       "\n",
       "    .dataframe tbody tr th {\n",
       "        vertical-align: top;\n",
       "    }\n",
       "\n",
       "    .dataframe thead th {\n",
       "        text-align: right;\n",
       "    }\n",
       "</style>\n",
       "<table border=\"1\" class=\"dataframe\">\n",
       "  <thead>\n",
       "    <tr style=\"text-align: right;\">\n",
       "      <th></th>\n",
       "      <th>ASSET_ID_RAW</th>\n",
       "      <th>ASSET_DESCRIPTION</th>\n",
       "      <th>EVENT_DESCRIPTION</th>\n",
       "      <th>EVENT_STATUS</th>\n",
       "      <th>OPERATOR_INITIALS</th>\n",
       "    </tr>\n",
       "  </thead>\n",
       "  <tbody>\n",
       "    <tr>\n",
       "      <th>2320</th>\n",
       "      <td>OCC_CCTS_0001</td>\n",
       "      <td>NaN</td>\n",
       "      <td>Selected Trainborne Camera &lt;13&gt; for &lt;TR___0011&gt;</td>\n",
       "      <td>EXECUTED</td>\n",
       "      <td>MHM</td>\n",
       "    </tr>\n",
       "    <tr>\n",
       "      <th>2324</th>\n",
       "      <td>OCC_CCTS_0001</td>\n",
       "      <td>NaN</td>\n",
       "      <td>Selected Trainborne Camera &lt;13&gt; for &lt;TR___0011&gt;</td>\n",
       "      <td>EXECUTED</td>\n",
       "      <td>NBC</td>\n",
       "    </tr>\n",
       "    <tr>\n",
       "      <th>2328</th>\n",
       "      <td>OCC_CCTS_0001</td>\n",
       "      <td>NaN</td>\n",
       "      <td>Selected Trainborne Camera &lt;13&gt; for &lt;TR___0030&gt;</td>\n",
       "      <td>EXECUTED</td>\n",
       "      <td>NBC</td>\n",
       "    </tr>\n",
       "    <tr>\n",
       "      <th>2343</th>\n",
       "      <td>OCC_CCTS_0001</td>\n",
       "      <td>NaN</td>\n",
       "      <td>Selected Trainborne Camera &lt;13&gt; for &lt;TR___0018&gt;</td>\n",
       "      <td>EXECUTED</td>\n",
       "      <td>NBC</td>\n",
       "    </tr>\n",
       "    <tr>\n",
       "      <th>2350</th>\n",
       "      <td>OCC_CCTS_0001</td>\n",
       "      <td>NaN</td>\n",
       "      <td>Selected Trainborne Camera &lt;13&gt; for &lt;TR___0006&gt;</td>\n",
       "      <td>EXECUTED</td>\n",
       "      <td>NBC</td>\n",
       "    </tr>\n",
       "  </tbody>\n",
       "</table>\n",
       "</div>"
      ],
      "text/plain": [
       "       ASSET_ID_RAW ASSET_DESCRIPTION  \\\n",
       "2320  OCC_CCTS_0001               NaN   \n",
       "2324  OCC_CCTS_0001               NaN   \n",
       "2328  OCC_CCTS_0001               NaN   \n",
       "2343  OCC_CCTS_0001               NaN   \n",
       "2350  OCC_CCTS_0001               NaN   \n",
       "\n",
       "                                    EVENT_DESCRIPTION EVENT_STATUS  \\\n",
       "2320  Selected Trainborne Camera <13> for <TR___0011>     EXECUTED   \n",
       "2324  Selected Trainborne Camera <13> for <TR___0011>     EXECUTED   \n",
       "2328  Selected Trainborne Camera <13> for <TR___0030>     EXECUTED   \n",
       "2343  Selected Trainborne Camera <13> for <TR___0018>     EXECUTED   \n",
       "2350  Selected Trainborne Camera <13> for <TR___0006>     EXECUTED   \n",
       "\n",
       "     OPERATOR_INITIALS  \n",
       "2320               MHM  \n",
       "2324               NBC  \n",
       "2328               NBC  \n",
       "2343               NBC  \n",
       "2350               NBC  "
      ]
     },
     "execution_count": 27,
     "metadata": {},
     "output_type": "execute_result"
    }
   ],
   "source": [
    "df.loc[(df[\"EVENT_DESCRIPTION\"].str.contains(\"Trainborne Camera\"))].head()"
   ]
  },
  {
   "cell_type": "code",
   "execution_count": 28,
   "metadata": {},
   "outputs": [
    {
     "data": {
      "text/plain": [
       "(10, 5)"
      ]
     },
     "execution_count": 28,
     "metadata": {},
     "output_type": "execute_result"
    }
   ],
   "source": [
    "df.loc[(df[\"EVENT_DESCRIPTION\"].str.contains(\"Trainborne Camera\"))].shape"
   ]
  },
  {
   "cell_type": "code",
   "execution_count": 29,
   "metadata": {},
   "outputs": [
    {
     "data": {
      "text/html": [
       "<div>\n",
       "<style scoped>\n",
       "    .dataframe tbody tr th:only-of-type {\n",
       "        vertical-align: middle;\n",
       "    }\n",
       "\n",
       "    .dataframe tbody tr th {\n",
       "        vertical-align: top;\n",
       "    }\n",
       "\n",
       "    .dataframe thead th {\n",
       "        text-align: right;\n",
       "    }\n",
       "</style>\n",
       "<table border=\"1\" class=\"dataframe\">\n",
       "  <thead>\n",
       "    <tr style=\"text-align: right;\">\n",
       "      <th></th>\n",
       "      <th>ASSET_ID_RAW</th>\n",
       "      <th>ASSET_DESCRIPTION</th>\n",
       "      <th>EVENT_DESCRIPTION</th>\n",
       "      <th>EVENT_STATUS</th>\n",
       "      <th>OPERATOR_INITIALS</th>\n",
       "    </tr>\n",
       "  </thead>\n",
       "  <tbody>\n",
       "    <tr>\n",
       "      <th>2320</th>\n",
       "      <td>OCC_CCTS_0001</td>\n",
       "      <td>Trainborne Camera</td>\n",
       "      <td>Selected Trainborne Camera &lt;13&gt; for &lt;TR___0011&gt;</td>\n",
       "      <td>EXECUTED</td>\n",
       "      <td>MHM</td>\n",
       "    </tr>\n",
       "    <tr>\n",
       "      <th>2324</th>\n",
       "      <td>OCC_CCTS_0001</td>\n",
       "      <td>Trainborne Camera</td>\n",
       "      <td>Selected Trainborne Camera &lt;13&gt; for &lt;TR___0011&gt;</td>\n",
       "      <td>EXECUTED</td>\n",
       "      <td>NBC</td>\n",
       "    </tr>\n",
       "    <tr>\n",
       "      <th>2328</th>\n",
       "      <td>OCC_CCTS_0001</td>\n",
       "      <td>Trainborne Camera</td>\n",
       "      <td>Selected Trainborne Camera &lt;13&gt; for &lt;TR___0030&gt;</td>\n",
       "      <td>EXECUTED</td>\n",
       "      <td>NBC</td>\n",
       "    </tr>\n",
       "    <tr>\n",
       "      <th>2343</th>\n",
       "      <td>OCC_CCTS_0001</td>\n",
       "      <td>Trainborne Camera</td>\n",
       "      <td>Selected Trainborne Camera &lt;13&gt; for &lt;TR___0018&gt;</td>\n",
       "      <td>EXECUTED</td>\n",
       "      <td>NBC</td>\n",
       "    </tr>\n",
       "    <tr>\n",
       "      <th>2350</th>\n",
       "      <td>OCC_CCTS_0001</td>\n",
       "      <td>Trainborne Camera</td>\n",
       "      <td>Selected Trainborne Camera &lt;13&gt; for &lt;TR___0006&gt;</td>\n",
       "      <td>EXECUTED</td>\n",
       "      <td>NBC</td>\n",
       "    </tr>\n",
       "  </tbody>\n",
       "</table>\n",
       "</div>"
      ],
      "text/plain": [
       "       ASSET_ID_RAW  ASSET_DESCRIPTION  \\\n",
       "2320  OCC_CCTS_0001  Trainborne Camera   \n",
       "2324  OCC_CCTS_0001  Trainborne Camera   \n",
       "2328  OCC_CCTS_0001  Trainborne Camera   \n",
       "2343  OCC_CCTS_0001  Trainborne Camera   \n",
       "2350  OCC_CCTS_0001  Trainborne Camera   \n",
       "\n",
       "                                    EVENT_DESCRIPTION EVENT_STATUS  \\\n",
       "2320  Selected Trainborne Camera <13> for <TR___0011>     EXECUTED   \n",
       "2324  Selected Trainborne Camera <13> for <TR___0011>     EXECUTED   \n",
       "2328  Selected Trainborne Camera <13> for <TR___0030>     EXECUTED   \n",
       "2343  Selected Trainborne Camera <13> for <TR___0018>     EXECUTED   \n",
       "2350  Selected Trainborne Camera <13> for <TR___0006>     EXECUTED   \n",
       "\n",
       "     OPERATOR_INITIALS  \n",
       "2320               MHM  \n",
       "2324               NBC  \n",
       "2328               NBC  \n",
       "2343               NBC  \n",
       "2350               NBC  "
      ]
     },
     "execution_count": 29,
     "metadata": {},
     "output_type": "execute_result"
    }
   ],
   "source": [
    "# Update for \"Trainborne Camera\"\n",
    "try:\n",
    "    df.loc[(df[\"EVENT_DESCRIPTION\"].str.contains(\"Trainborne Camera\")), \"ASSET_DESCRIPTION\"] = \"Trainborne Camera\"\n",
    "except:\n",
    "    pass\n",
    "\n",
    "# Inspect data\n",
    "df.loc[(df[\"EVENT_DESCRIPTION\"].str.contains(\"Trainborne Camera\"))].head()"
   ]
  },
  {
   "cell_type": "code",
   "execution_count": 30,
   "metadata": {},
   "outputs": [
    {
     "data": {
      "text/plain": [
       "(10, 5)"
      ]
     },
     "execution_count": 30,
     "metadata": {},
     "output_type": "execute_result"
    }
   ],
   "source": [
    "df.loc[(df[\"EVENT_DESCRIPTION\"].str.contains(\"Trainborne Camera\"))].shape"
   ]
  },
  {
   "cell_type": "markdown",
   "metadata": {},
   "source": [
    "#### Trainborne Quad"
   ]
  },
  {
   "cell_type": "code",
   "execution_count": 31,
   "metadata": {},
   "outputs": [
    {
     "data": {
      "text/html": [
       "<div>\n",
       "<style scoped>\n",
       "    .dataframe tbody tr th:only-of-type {\n",
       "        vertical-align: middle;\n",
       "    }\n",
       "\n",
       "    .dataframe tbody tr th {\n",
       "        vertical-align: top;\n",
       "    }\n",
       "\n",
       "    .dataframe thead th {\n",
       "        text-align: right;\n",
       "    }\n",
       "</style>\n",
       "<table border=\"1\" class=\"dataframe\">\n",
       "  <thead>\n",
       "    <tr style=\"text-align: right;\">\n",
       "      <th></th>\n",
       "      <th>ASSET_ID_RAW</th>\n",
       "      <th>ASSET_DESCRIPTION</th>\n",
       "      <th>EVENT_DESCRIPTION</th>\n",
       "      <th>EVENT_STATUS</th>\n",
       "      <th>OPERATOR_INITIALS</th>\n",
       "    </tr>\n",
       "  </thead>\n",
       "  <tbody>\n",
       "    <tr>\n",
       "      <th>2321</th>\n",
       "      <td>OCC_CCTS_0001</td>\n",
       "      <td>NaN</td>\n",
       "      <td>Selected Trainborne Quad &lt;5 6 7 8&gt; for TR___0011</td>\n",
       "      <td>EXECUTED</td>\n",
       "      <td>MHM</td>\n",
       "    </tr>\n",
       "    <tr>\n",
       "      <th>2322</th>\n",
       "      <td>OCC_CCTS_0001</td>\n",
       "      <td>NaN</td>\n",
       "      <td>Selected Trainborne Quad &lt;9 10 11 12&gt; for TR__...</td>\n",
       "      <td>EXECUTED</td>\n",
       "      <td>MHM</td>\n",
       "    </tr>\n",
       "    <tr>\n",
       "      <th>2325</th>\n",
       "      <td>OCC_CCTS_0001</td>\n",
       "      <td>NaN</td>\n",
       "      <td>Selected Trainborne Quad &lt;5 6 7 8&gt; for TR___0011</td>\n",
       "      <td>EXECUTED</td>\n",
       "      <td>NBC</td>\n",
       "    </tr>\n",
       "    <tr>\n",
       "      <th>2326</th>\n",
       "      <td>OCC_CCTS_0001</td>\n",
       "      <td>NaN</td>\n",
       "      <td>Selected Trainborne Quad &lt;9 10 11 12&gt; for TR__...</td>\n",
       "      <td>EXECUTED</td>\n",
       "      <td>NBC</td>\n",
       "    </tr>\n",
       "    <tr>\n",
       "      <th>2329</th>\n",
       "      <td>OCC_CCTS_0001</td>\n",
       "      <td>NaN</td>\n",
       "      <td>Selected Trainborne Quad &lt;5 6 7 8&gt; for TR___0030</td>\n",
       "      <td>EXECUTED</td>\n",
       "      <td>NBC</td>\n",
       "    </tr>\n",
       "  </tbody>\n",
       "</table>\n",
       "</div>"
      ],
      "text/plain": [
       "       ASSET_ID_RAW ASSET_DESCRIPTION  \\\n",
       "2321  OCC_CCTS_0001               NaN   \n",
       "2322  OCC_CCTS_0001               NaN   \n",
       "2325  OCC_CCTS_0001               NaN   \n",
       "2326  OCC_CCTS_0001               NaN   \n",
       "2329  OCC_CCTS_0001               NaN   \n",
       "\n",
       "                                      EVENT_DESCRIPTION EVENT_STATUS  \\\n",
       "2321   Selected Trainborne Quad <5 6 7 8> for TR___0011     EXECUTED   \n",
       "2322  Selected Trainborne Quad <9 10 11 12> for TR__...     EXECUTED   \n",
       "2325   Selected Trainborne Quad <5 6 7 8> for TR___0011     EXECUTED   \n",
       "2326  Selected Trainborne Quad <9 10 11 12> for TR__...     EXECUTED   \n",
       "2329   Selected Trainborne Quad <5 6 7 8> for TR___0030     EXECUTED   \n",
       "\n",
       "     OPERATOR_INITIALS  \n",
       "2321               MHM  \n",
       "2322               MHM  \n",
       "2325               NBC  \n",
       "2326               NBC  \n",
       "2329               NBC  "
      ]
     },
     "execution_count": 31,
     "metadata": {},
     "output_type": "execute_result"
    }
   ],
   "source": [
    "df.loc[(df[\"EVENT_DESCRIPTION\"].str.contains(\"Trainborne Quad\"))].head()"
   ]
  },
  {
   "cell_type": "code",
   "execution_count": 32,
   "metadata": {},
   "outputs": [
    {
     "data": {
      "text/plain": [
       "(18, 5)"
      ]
     },
     "execution_count": 32,
     "metadata": {},
     "output_type": "execute_result"
    }
   ],
   "source": [
    "df.loc[(df[\"EVENT_DESCRIPTION\"].str.contains(\"Trainborne Quad\"))].shape"
   ]
  },
  {
   "cell_type": "code",
   "execution_count": 33,
   "metadata": {},
   "outputs": [
    {
     "data": {
      "text/html": [
       "<div>\n",
       "<style scoped>\n",
       "    .dataframe tbody tr th:only-of-type {\n",
       "        vertical-align: middle;\n",
       "    }\n",
       "\n",
       "    .dataframe tbody tr th {\n",
       "        vertical-align: top;\n",
       "    }\n",
       "\n",
       "    .dataframe thead th {\n",
       "        text-align: right;\n",
       "    }\n",
       "</style>\n",
       "<table border=\"1\" class=\"dataframe\">\n",
       "  <thead>\n",
       "    <tr style=\"text-align: right;\">\n",
       "      <th></th>\n",
       "      <th>ASSET_ID_RAW</th>\n",
       "      <th>ASSET_DESCRIPTION</th>\n",
       "      <th>EVENT_DESCRIPTION</th>\n",
       "      <th>EVENT_STATUS</th>\n",
       "      <th>OPERATOR_INITIALS</th>\n",
       "    </tr>\n",
       "  </thead>\n",
       "  <tbody>\n",
       "    <tr>\n",
       "      <th>2321</th>\n",
       "      <td>OCC_CCTS_0001</td>\n",
       "      <td>Trainborne Quad</td>\n",
       "      <td>Selected Trainborne Quad &lt;5 6 7 8&gt; for TR___0011</td>\n",
       "      <td>EXECUTED</td>\n",
       "      <td>MHM</td>\n",
       "    </tr>\n",
       "    <tr>\n",
       "      <th>2322</th>\n",
       "      <td>OCC_CCTS_0001</td>\n",
       "      <td>Trainborne Quad</td>\n",
       "      <td>Selected Trainborne Quad &lt;9 10 11 12&gt; for TR__...</td>\n",
       "      <td>EXECUTED</td>\n",
       "      <td>MHM</td>\n",
       "    </tr>\n",
       "    <tr>\n",
       "      <th>2325</th>\n",
       "      <td>OCC_CCTS_0001</td>\n",
       "      <td>Trainborne Quad</td>\n",
       "      <td>Selected Trainborne Quad &lt;5 6 7 8&gt; for TR___0011</td>\n",
       "      <td>EXECUTED</td>\n",
       "      <td>NBC</td>\n",
       "    </tr>\n",
       "    <tr>\n",
       "      <th>2326</th>\n",
       "      <td>OCC_CCTS_0001</td>\n",
       "      <td>Trainborne Quad</td>\n",
       "      <td>Selected Trainborne Quad &lt;9 10 11 12&gt; for TR__...</td>\n",
       "      <td>EXECUTED</td>\n",
       "      <td>NBC</td>\n",
       "    </tr>\n",
       "    <tr>\n",
       "      <th>2329</th>\n",
       "      <td>OCC_CCTS_0001</td>\n",
       "      <td>Trainborne Quad</td>\n",
       "      <td>Selected Trainborne Quad &lt;5 6 7 8&gt; for TR___0030</td>\n",
       "      <td>EXECUTED</td>\n",
       "      <td>NBC</td>\n",
       "    </tr>\n",
       "  </tbody>\n",
       "</table>\n",
       "</div>"
      ],
      "text/plain": [
       "       ASSET_ID_RAW ASSET_DESCRIPTION  \\\n",
       "2321  OCC_CCTS_0001   Trainborne Quad   \n",
       "2322  OCC_CCTS_0001   Trainborne Quad   \n",
       "2325  OCC_CCTS_0001   Trainborne Quad   \n",
       "2326  OCC_CCTS_0001   Trainborne Quad   \n",
       "2329  OCC_CCTS_0001   Trainborne Quad   \n",
       "\n",
       "                                      EVENT_DESCRIPTION EVENT_STATUS  \\\n",
       "2321   Selected Trainborne Quad <5 6 7 8> for TR___0011     EXECUTED   \n",
       "2322  Selected Trainborne Quad <9 10 11 12> for TR__...     EXECUTED   \n",
       "2325   Selected Trainborne Quad <5 6 7 8> for TR___0011     EXECUTED   \n",
       "2326  Selected Trainborne Quad <9 10 11 12> for TR__...     EXECUTED   \n",
       "2329   Selected Trainborne Quad <5 6 7 8> for TR___0030     EXECUTED   \n",
       "\n",
       "     OPERATOR_INITIALS  \n",
       "2321               MHM  \n",
       "2322               MHM  \n",
       "2325               NBC  \n",
       "2326               NBC  \n",
       "2329               NBC  "
      ]
     },
     "execution_count": 33,
     "metadata": {},
     "output_type": "execute_result"
    }
   ],
   "source": [
    "# Update for \"Trainborne Quad\"\n",
    "try:\n",
    "    df.loc[(df[\"EVENT_DESCRIPTION\"].str.contains(\"Trainborne Quad\")), \"ASSET_DESCRIPTION\"] = \"Trainborne Quad\"\n",
    "except:\n",
    "    pass\n",
    "\n",
    "# Inspect data\n",
    "df.loc[(df[\"EVENT_DESCRIPTION\"].str.contains(\"Trainborne Quad\"))].head()"
   ]
  },
  {
   "cell_type": "code",
   "execution_count": 34,
   "metadata": {},
   "outputs": [
    {
     "data": {
      "text/plain": [
       "(18, 5)"
      ]
     },
     "execution_count": 34,
     "metadata": {},
     "output_type": "execute_result"
    }
   ],
   "source": [
    "df.loc[(df[\"EVENT_DESCRIPTION\"].str.contains(\"Trainborne Quad\"))].shape"
   ]
  },
  {
   "cell_type": "markdown",
   "metadata": {},
   "source": [
    "#### Tunnel Light"
   ]
  },
  {
   "cell_type": "code",
   "execution_count": 35,
   "metadata": {},
   "outputs": [
    {
     "data": {
      "text/html": [
       "<div>\n",
       "<style scoped>\n",
       "    .dataframe tbody tr th:only-of-type {\n",
       "        vertical-align: middle;\n",
       "    }\n",
       "\n",
       "    .dataframe tbody tr th {\n",
       "        vertical-align: top;\n",
       "    }\n",
       "\n",
       "    .dataframe thead th {\n",
       "        text-align: right;\n",
       "    }\n",
       "</style>\n",
       "<table border=\"1\" class=\"dataframe\">\n",
       "  <thead>\n",
       "    <tr style=\"text-align: right;\">\n",
       "      <th></th>\n",
       "      <th>ASSET_ID_RAW</th>\n",
       "      <th>ASSET_DESCRIPTION</th>\n",
       "      <th>EVENT_DESCRIPTION</th>\n",
       "      <th>EVENT_STATUS</th>\n",
       "      <th>OPERATOR_INITIALS</th>\n",
       "    </tr>\n",
       "  </thead>\n",
       "  <tbody>\n",
       "    <tr>\n",
       "      <th>2079</th>\n",
       "      <td>TUNNEL_LIGHT_OFF</td>\n",
       "      <td>NaN</td>\n",
       "      <td>Turn OFF NB and SB and CS Tunnel Light</td>\n",
       "      <td>REQUESTED</td>\n",
       "      <td>CCH</td>\n",
       "    </tr>\n",
       "    <tr>\n",
       "      <th>2218</th>\n",
       "      <td>TUNNEL_LIGHT_OFF</td>\n",
       "      <td>NaN</td>\n",
       "      <td>Turn OFF NB and SB and CS Tunnel Light</td>\n",
       "      <td>TERMINATED</td>\n",
       "      <td>CCH</td>\n",
       "    </tr>\n",
       "    <tr>\n",
       "      <th>2368</th>\n",
       "      <td>TUNNEL_LIGHT_ON</td>\n",
       "      <td>NaN</td>\n",
       "      <td>Turn ON NB and SB and CS Tunnel Light</td>\n",
       "      <td>REQUESTED</td>\n",
       "      <td>CCH</td>\n",
       "    </tr>\n",
       "    <tr>\n",
       "      <th>2458</th>\n",
       "      <td>TUNNEL_LIGHT_ON</td>\n",
       "      <td>NaN</td>\n",
       "      <td>Turn ON NB and SB and CS Tunnel Light</td>\n",
       "      <td>TERMINATED</td>\n",
       "      <td>CCH</td>\n",
       "    </tr>\n",
       "  </tbody>\n",
       "</table>\n",
       "</div>"
      ],
      "text/plain": [
       "          ASSET_ID_RAW ASSET_DESCRIPTION  \\\n",
       "2079  TUNNEL_LIGHT_OFF               NaN   \n",
       "2218  TUNNEL_LIGHT_OFF               NaN   \n",
       "2368   TUNNEL_LIGHT_ON               NaN   \n",
       "2458   TUNNEL_LIGHT_ON               NaN   \n",
       "\n",
       "                           EVENT_DESCRIPTION EVENT_STATUS OPERATOR_INITIALS  \n",
       "2079  Turn OFF NB and SB and CS Tunnel Light    REQUESTED               CCH  \n",
       "2218  Turn OFF NB and SB and CS Tunnel Light   TERMINATED               CCH  \n",
       "2368   Turn ON NB and SB and CS Tunnel Light    REQUESTED               CCH  \n",
       "2458   Turn ON NB and SB and CS Tunnel Light   TERMINATED               CCH  "
      ]
     },
     "execution_count": 35,
     "metadata": {},
     "output_type": "execute_result"
    }
   ],
   "source": [
    "df.loc[(df[\"EVENT_DESCRIPTION\"].str.contains(\"Tunnel Light\")) & \n",
    "        ((df[\"ASSET_DESCRIPTION\"].isnull()) | \n",
    "         (df[\"ASSET_DESCRIPTION\"] == None) | \n",
    "         (df[\"ASSET_DESCRIPTION\"] == \"\"))].head()"
   ]
  },
  {
   "cell_type": "code",
   "execution_count": 36,
   "metadata": {},
   "outputs": [
    {
     "data": {
      "text/plain": [
       "(4, 5)"
      ]
     },
     "execution_count": 36,
     "metadata": {},
     "output_type": "execute_result"
    }
   ],
   "source": [
    "df.loc[(df[\"EVENT_DESCRIPTION\"].str.contains(\"Tunnel Light\")) & \n",
    "        ((df[\"ASSET_DESCRIPTION\"].isnull()) | \n",
    "         (df[\"ASSET_DESCRIPTION\"] == None) | \n",
    "         (df[\"ASSET_DESCRIPTION\"] == \"\"))].shape"
   ]
  },
  {
   "cell_type": "code",
   "execution_count": 37,
   "metadata": {},
   "outputs": [
    {
     "data": {
      "text/html": [
       "<div>\n",
       "<style scoped>\n",
       "    .dataframe tbody tr th:only-of-type {\n",
       "        vertical-align: middle;\n",
       "    }\n",
       "\n",
       "    .dataframe tbody tr th {\n",
       "        vertical-align: top;\n",
       "    }\n",
       "\n",
       "    .dataframe thead th {\n",
       "        text-align: right;\n",
       "    }\n",
       "</style>\n",
       "<table border=\"1\" class=\"dataframe\">\n",
       "  <thead>\n",
       "    <tr style=\"text-align: right;\">\n",
       "      <th></th>\n",
       "      <th>ASSET_ID_RAW</th>\n",
       "      <th>ASSET_DESCRIPTION</th>\n",
       "      <th>EVENT_DESCRIPTION</th>\n",
       "      <th>EVENT_STATUS</th>\n",
       "      <th>OPERATOR_INITIALS</th>\n",
       "    </tr>\n",
       "  </thead>\n",
       "  <tbody>\n",
       "    <tr>\n",
       "      <th>2079</th>\n",
       "      <td>TUNNEL_LIGHT_OFF</td>\n",
       "      <td>Tunnel LTG</td>\n",
       "      <td>Turn OFF NB and SB and CS Tunnel Light</td>\n",
       "      <td>REQUESTED</td>\n",
       "      <td>CCH</td>\n",
       "    </tr>\n",
       "    <tr>\n",
       "      <th>2218</th>\n",
       "      <td>TUNNEL_LIGHT_OFF</td>\n",
       "      <td>Tunnel LTG</td>\n",
       "      <td>Turn OFF NB and SB and CS Tunnel Light</td>\n",
       "      <td>TERMINATED</td>\n",
       "      <td>CCH</td>\n",
       "    </tr>\n",
       "    <tr>\n",
       "      <th>2368</th>\n",
       "      <td>TUNNEL_LIGHT_ON</td>\n",
       "      <td>Tunnel LTG</td>\n",
       "      <td>Turn ON NB and SB and CS Tunnel Light</td>\n",
       "      <td>REQUESTED</td>\n",
       "      <td>CCH</td>\n",
       "    </tr>\n",
       "    <tr>\n",
       "      <th>2458</th>\n",
       "      <td>TUNNEL_LIGHT_ON</td>\n",
       "      <td>Tunnel LTG</td>\n",
       "      <td>Turn ON NB and SB and CS Tunnel Light</td>\n",
       "      <td>TERMINATED</td>\n",
       "      <td>CCH</td>\n",
       "    </tr>\n",
       "  </tbody>\n",
       "</table>\n",
       "</div>"
      ],
      "text/plain": [
       "          ASSET_ID_RAW ASSET_DESCRIPTION  \\\n",
       "2079  TUNNEL_LIGHT_OFF        Tunnel LTG   \n",
       "2218  TUNNEL_LIGHT_OFF        Tunnel LTG   \n",
       "2368   TUNNEL_LIGHT_ON        Tunnel LTG   \n",
       "2458   TUNNEL_LIGHT_ON        Tunnel LTG   \n",
       "\n",
       "                           EVENT_DESCRIPTION EVENT_STATUS OPERATOR_INITIALS  \n",
       "2079  Turn OFF NB and SB and CS Tunnel Light    REQUESTED               CCH  \n",
       "2218  Turn OFF NB and SB and CS Tunnel Light   TERMINATED               CCH  \n",
       "2368   Turn ON NB and SB and CS Tunnel Light    REQUESTED               CCH  \n",
       "2458   Turn ON NB and SB and CS Tunnel Light   TERMINATED               CCH  "
      ]
     },
     "execution_count": 37,
     "metadata": {},
     "output_type": "execute_result"
    }
   ],
   "source": [
    "# Update for \"Tunnel Light\"\n",
    "try:\n",
    "    df.loc[(df[\"EVENT_DESCRIPTION\"].str.contains(\"Tunnel Light\")) & \n",
    "            ((df[\"ASSET_DESCRIPTION\"].isnull()) | \n",
    "             (df[\"ASSET_DESCRIPTION\"] == None) | \n",
    "             (df[\"ASSET_DESCRIPTION\"] == \"\")), \"ASSET_DESCRIPTION\"] = \"Tunnel LTG\"\n",
    "except:\n",
    "    pass\n",
    "\n",
    "# Inspect data\n",
    "df.loc[(df[\"EVENT_DESCRIPTION\"].str.contains(\"Tunnel Light\")) & \n",
    "        (df[\"ASSET_DESCRIPTION\"] == \"Tunnel LTG\")].head()"
   ]
  },
  {
   "cell_type": "code",
   "execution_count": 38,
   "metadata": {},
   "outputs": [
    {
     "data": {
      "text/plain": [
       "(4, 5)"
      ]
     },
     "execution_count": 38,
     "metadata": {},
     "output_type": "execute_result"
    }
   ],
   "source": [
    "df.loc[(df[\"EVENT_DESCRIPTION\"].str.contains(\"Tunnel Light\")) & \n",
    "        (df[\"ASSET_DESCRIPTION\"] == \"Tunnel LTG\")].shape"
   ]
  },
  {
   "cell_type": "markdown",
   "metadata": {},
   "source": [
    "#### Control Take Over"
   ]
  },
  {
   "cell_type": "code",
   "execution_count": 39,
   "metadata": {},
   "outputs": [
    {
     "data": {
      "text/html": [
       "<div>\n",
       "<style scoped>\n",
       "    .dataframe tbody tr th:only-of-type {\n",
       "        vertical-align: middle;\n",
       "    }\n",
       "\n",
       "    .dataframe tbody tr th {\n",
       "        vertical-align: top;\n",
       "    }\n",
       "\n",
       "    .dataframe thead th {\n",
       "        text-align: right;\n",
       "    }\n",
       "</style>\n",
       "<table border=\"1\" class=\"dataframe\">\n",
       "  <thead>\n",
       "    <tr style=\"text-align: right;\">\n",
       "      <th></th>\n",
       "      <th>ASSET_ID_RAW</th>\n",
       "      <th>ASSET_DESCRIPTION</th>\n",
       "      <th>EVENT_DESCRIPTION</th>\n",
       "      <th>EVENT_STATUS</th>\n",
       "      <th>OPERATOR_INITIALS</th>\n",
       "    </tr>\n",
       "  </thead>\n",
       "  <tbody>\n",
       "    <tr>\n",
       "      <th>321</th>\n",
       "      <td>OCC_LENV_CMS_</td>\n",
       "      <td>NaN</td>\n",
       "      <td>Control Take Over for All Functions from KVN t...</td>\n",
       "      <td>FORCED</td>\n",
       "      <td>CKY</td>\n",
       "    </tr>\n",
       "    <tr>\n",
       "      <th>620</th>\n",
       "      <td>KVN_LENV_SMS_</td>\n",
       "      <td>NaN</td>\n",
       "      <td>Control Take Over for ECS - Smoke Extraction S...</td>\n",
       "      <td>FORCED</td>\n",
       "      <td>NaN</td>\n",
       "    </tr>\n",
       "    <tr>\n",
       "      <th>621</th>\n",
       "      <td>KVN_LENV_SMS_</td>\n",
       "      <td>NaN</td>\n",
       "      <td>Control Take Over for PIS - Passenger Informat...</td>\n",
       "      <td>FORCED</td>\n",
       "      <td>NaN</td>\n",
       "    </tr>\n",
       "  </tbody>\n",
       "</table>\n",
       "</div>"
      ],
      "text/plain": [
       "      ASSET_ID_RAW ASSET_DESCRIPTION  \\\n",
       "321  OCC_LENV_CMS_               NaN   \n",
       "620  KVN_LENV_SMS_               NaN   \n",
       "621  KVN_LENV_SMS_               NaN   \n",
       "\n",
       "                                     EVENT_DESCRIPTION EVENT_STATUS  \\\n",
       "321  Control Take Over for All Functions from KVN t...       FORCED   \n",
       "620  Control Take Over for ECS - Smoke Extraction S...       FORCED   \n",
       "621  Control Take Over for PIS - Passenger Informat...       FORCED   \n",
       "\n",
       "    OPERATOR_INITIALS  \n",
       "321               CKY  \n",
       "620               NaN  \n",
       "621               NaN  "
      ]
     },
     "execution_count": 39,
     "metadata": {},
     "output_type": "execute_result"
    }
   ],
   "source": [
    "df.loc[(df[\"EVENT_DESCRIPTION\"].str.contains(\"Control Take Over for \"))].head()"
   ]
  },
  {
   "cell_type": "code",
   "execution_count": 40,
   "metadata": {},
   "outputs": [
    {
     "data": {
      "text/plain": [
       "(3, 5)"
      ]
     },
     "execution_count": 40,
     "metadata": {},
     "output_type": "execute_result"
    }
   ],
   "source": [
    "df.loc[(df[\"EVENT_DESCRIPTION\"].str.contains(\"Control Take Over for \"))].shape"
   ]
  },
  {
   "cell_type": "code",
   "execution_count": 41,
   "metadata": {},
   "outputs": [
    {
     "data": {
      "text/html": [
       "<div>\n",
       "<style scoped>\n",
       "    .dataframe tbody tr th:only-of-type {\n",
       "        vertical-align: middle;\n",
       "    }\n",
       "\n",
       "    .dataframe tbody tr th {\n",
       "        vertical-align: top;\n",
       "    }\n",
       "\n",
       "    .dataframe thead th {\n",
       "        text-align: right;\n",
       "    }\n",
       "</style>\n",
       "<table border=\"1\" class=\"dataframe\">\n",
       "  <thead>\n",
       "    <tr style=\"text-align: right;\">\n",
       "      <th></th>\n",
       "      <th>ASSET_ID_RAW</th>\n",
       "      <th>ASSET_DESCRIPTION</th>\n",
       "      <th>EVENT_DESCRIPTION</th>\n",
       "      <th>EVENT_STATUS</th>\n",
       "      <th>OPERATOR_INITIALS</th>\n",
       "    </tr>\n",
       "  </thead>\n",
       "  <tbody>\n",
       "    <tr>\n",
       "      <th>321</th>\n",
       "      <td>OCC_LENV_CMS_</td>\n",
       "      <td>All</td>\n",
       "      <td>Control Take Over for All Functions from KVN t...</td>\n",
       "      <td>FORCED</td>\n",
       "      <td>CKY</td>\n",
       "    </tr>\n",
       "    <tr>\n",
       "      <th>620</th>\n",
       "      <td>KVN_LENV_SMS_</td>\n",
       "      <td>ECS</td>\n",
       "      <td>Control Take Over for ECS - Smoke Extraction S...</td>\n",
       "      <td>FORCED</td>\n",
       "      <td>NaN</td>\n",
       "    </tr>\n",
       "    <tr>\n",
       "      <th>621</th>\n",
       "      <td>KVN_LENV_SMS_</td>\n",
       "      <td>PIS</td>\n",
       "      <td>Control Take Over for PIS - Passenger Informat...</td>\n",
       "      <td>FORCED</td>\n",
       "      <td>NaN</td>\n",
       "    </tr>\n",
       "  </tbody>\n",
       "</table>\n",
       "</div>"
      ],
      "text/plain": [
       "      ASSET_ID_RAW ASSET_DESCRIPTION  \\\n",
       "321  OCC_LENV_CMS_               All   \n",
       "620  KVN_LENV_SMS_               ECS   \n",
       "621  KVN_LENV_SMS_               PIS   \n",
       "\n",
       "                                     EVENT_DESCRIPTION EVENT_STATUS  \\\n",
       "321  Control Take Over for All Functions from KVN t...       FORCED   \n",
       "620  Control Take Over for ECS - Smoke Extraction S...       FORCED   \n",
       "621  Control Take Over for PIS - Passenger Informat...       FORCED   \n",
       "\n",
       "    OPERATOR_INITIALS  \n",
       "321               CKY  \n",
       "620               NaN  \n",
       "621               NaN  "
      ]
     },
     "execution_count": 41,
     "metadata": {},
     "output_type": "execute_result"
    }
   ],
   "source": [
    "# Update for \"Control Take Over\"\n",
    "try:\n",
    "    df[\"ASSET_DESCRIPTION2\"] = df[\"EVENT_DESCRIPTION\"].str.extract(r\"Control Take Over for (\\w+) \")\n",
    "    df.loc[(df[\"EVENT_DESCRIPTION\"].str.contains(\"Control Take Over for\")), \"ASSET_DESCRIPTION\"] = df[\"ASSET_DESCRIPTION2\"]\n",
    "    del df[\"ASSET_DESCRIPTION2\"]\n",
    "except:\n",
    "    pass\n",
    "\n",
    "# Inspect data\n",
    "df.loc[(df[\"EVENT_DESCRIPTION\"].str.contains(\"Control Take Over for\"))].head()"
   ]
  },
  {
   "cell_type": "code",
   "execution_count": 42,
   "metadata": {},
   "outputs": [
    {
     "data": {
      "text/plain": [
       "(3, 5)"
      ]
     },
     "execution_count": 42,
     "metadata": {},
     "output_type": "execute_result"
    }
   ],
   "source": [
    "df.loc[(df[\"EVENT_DESCRIPTION\"].str.contains(\"Control Take Over for\"))].shape"
   ]
  },
  {
   "cell_type": "markdown",
   "metadata": {},
   "source": [
    "#### Close Control"
   ]
  },
  {
   "cell_type": "code",
   "execution_count": 43,
   "metadata": {},
   "outputs": [
    {
     "data": {
      "text/html": [
       "<div>\n",
       "<style scoped>\n",
       "    .dataframe tbody tr th:only-of-type {\n",
       "        vertical-align: middle;\n",
       "    }\n",
       "\n",
       "    .dataframe tbody tr th {\n",
       "        vertical-align: top;\n",
       "    }\n",
       "\n",
       "    .dataframe thead th {\n",
       "        text-align: right;\n",
       "    }\n",
       "</style>\n",
       "<table border=\"1\" class=\"dataframe\">\n",
       "  <thead>\n",
       "    <tr style=\"text-align: right;\">\n",
       "      <th></th>\n",
       "      <th>ASSET_ID_RAW</th>\n",
       "      <th>ASSET_DESCRIPTION</th>\n",
       "      <th>EVENT_DESCRIPTION</th>\n",
       "      <th>EVENT_STATUS</th>\n",
       "      <th>OPERATOR_INITIALS</th>\n",
       "    </tr>\n",
       "  </thead>\n",
       "  <tbody>\n",
       "    <tr>\n",
       "      <th>1161</th>\n",
       "      <td>TRACTION_HBF_ON</td>\n",
       "      <td>NaN</td>\n",
       "      <td>DM101, DM102, DFS01, DFN02, DFN03, DFS04 - Clo...</td>\n",
       "      <td>REQUESTED</td>\n",
       "      <td>TCY</td>\n",
       "    </tr>\n",
       "    <tr>\n",
       "      <th>1170</th>\n",
       "      <td>TRACTION_CNT_ON</td>\n",
       "      <td>NaN</td>\n",
       "      <td>DM101, DM102, DI201, DFS01, DFN02, DFN03, DFS0...</td>\n",
       "      <td>REQUESTED</td>\n",
       "      <td>TCY</td>\n",
       "    </tr>\n",
       "    <tr>\n",
       "      <th>1174</th>\n",
       "      <td>TRACTION_LTI_ON</td>\n",
       "      <td>NaN</td>\n",
       "      <td>DM101, DM102, DFS01, DFN02, DFN03, DFS04 - Clo...</td>\n",
       "      <td>REQUESTED</td>\n",
       "      <td>TCY</td>\n",
       "    </tr>\n",
       "    <tr>\n",
       "      <th>1261</th>\n",
       "      <td>TRACTION_HBF_ON</td>\n",
       "      <td>NaN</td>\n",
       "      <td>DM101, DM102, DFS01, DFN02, DFN03, DFS04 - Clo...</td>\n",
       "      <td>TERMINATED</td>\n",
       "      <td>TCY</td>\n",
       "    </tr>\n",
       "    <tr>\n",
       "      <th>1326</th>\n",
       "      <td>TRACTION_OTP_ON</td>\n",
       "      <td>NaN</td>\n",
       "      <td>DTS01, DTN02, DTN03, DTS04 - Close Control</td>\n",
       "      <td>REQUESTED</td>\n",
       "      <td>TCY</td>\n",
       "    </tr>\n",
       "  </tbody>\n",
       "</table>\n",
       "</div>"
      ],
      "text/plain": [
       "         ASSET_ID_RAW ASSET_DESCRIPTION  \\\n",
       "1161  TRACTION_HBF_ON               NaN   \n",
       "1170  TRACTION_CNT_ON               NaN   \n",
       "1174  TRACTION_LTI_ON               NaN   \n",
       "1261  TRACTION_HBF_ON               NaN   \n",
       "1326  TRACTION_OTP_ON               NaN   \n",
       "\n",
       "                                      EVENT_DESCRIPTION EVENT_STATUS  \\\n",
       "1161  DM101, DM102, DFS01, DFN02, DFN03, DFS04 - Clo...    REQUESTED   \n",
       "1170  DM101, DM102, DI201, DFS01, DFN02, DFN03, DFS0...    REQUESTED   \n",
       "1174  DM101, DM102, DFS01, DFN02, DFN03, DFS04 - Clo...    REQUESTED   \n",
       "1261  DM101, DM102, DFS01, DFN02, DFN03, DFS04 - Clo...   TERMINATED   \n",
       "1326         DTS01, DTN02, DTN03, DTS04 - Close Control    REQUESTED   \n",
       "\n",
       "     OPERATOR_INITIALS  \n",
       "1161               TCY  \n",
       "1170               TCY  \n",
       "1174               TCY  \n",
       "1261               TCY  \n",
       "1326               TCY  "
      ]
     },
     "execution_count": 43,
     "metadata": {},
     "output_type": "execute_result"
    }
   ],
   "source": [
    "df.loc[(df[\"EVENT_DESCRIPTION\"].str.contains(\"Close Control\")) & \n",
    "      ((df[\"ASSET_DESCRIPTION\"].isnull()) | \n",
    "       (df[\"ASSET_DESCRIPTION\"] == None) | \n",
    "       (df[\"ASSET_DESCRIPTION\"] == \"\")\n",
    "      ) & \n",
    "      ((df[\"EVENT_DESCRIPTION\"].str.contains(\"Close Control\"))\n",
    "      )\n",
    "      ].head()"
   ]
  },
  {
   "cell_type": "code",
   "execution_count": 44,
   "metadata": {},
   "outputs": [
    {
     "data": {
      "text/plain": [
       "(20, 5)"
      ]
     },
     "execution_count": 44,
     "metadata": {},
     "output_type": "execute_result"
    }
   ],
   "source": [
    "df.loc[(df[\"EVENT_DESCRIPTION\"].str.contains(\"Close Control\")) & \n",
    "      ((df[\"ASSET_DESCRIPTION\"].isnull()) | \n",
    "       (df[\"ASSET_DESCRIPTION\"] == None) | \n",
    "       (df[\"ASSET_DESCRIPTION\"] == \"\")\n",
    "      )].shape"
   ]
  },
  {
   "cell_type": "code",
   "execution_count": 45,
   "metadata": {},
   "outputs": [
    {
     "data": {
      "text/html": [
       "<div>\n",
       "<style scoped>\n",
       "    .dataframe tbody tr th:only-of-type {\n",
       "        vertical-align: middle;\n",
       "    }\n",
       "\n",
       "    .dataframe tbody tr th {\n",
       "        vertical-align: top;\n",
       "    }\n",
       "\n",
       "    .dataframe thead th {\n",
       "        text-align: right;\n",
       "    }\n",
       "</style>\n",
       "<table border=\"1\" class=\"dataframe\">\n",
       "  <thead>\n",
       "    <tr style=\"text-align: right;\">\n",
       "      <th></th>\n",
       "      <th>ASSET_ID_RAW</th>\n",
       "      <th>ASSET_DESCRIPTION</th>\n",
       "      <th>EVENT_DESCRIPTION</th>\n",
       "      <th>EVENT_STATUS</th>\n",
       "      <th>OPERATOR_INITIALS</th>\n",
       "    </tr>\n",
       "  </thead>\n",
       "  <tbody>\n",
       "    <tr>\n",
       "      <th>1161</th>\n",
       "      <td>TRACTION_HBF_ON</td>\n",
       "      <td>Traction Control</td>\n",
       "      <td>DM101, DM102, DFS01, DFN02, DFN03, DFS04 - Clo...</td>\n",
       "      <td>REQUESTED</td>\n",
       "      <td>TCY</td>\n",
       "    </tr>\n",
       "    <tr>\n",
       "      <th>1170</th>\n",
       "      <td>TRACTION_CNT_ON</td>\n",
       "      <td>Traction Control</td>\n",
       "      <td>DM101, DM102, DI201, DFS01, DFN02, DFN03, DFS0...</td>\n",
       "      <td>REQUESTED</td>\n",
       "      <td>TCY</td>\n",
       "    </tr>\n",
       "    <tr>\n",
       "      <th>1174</th>\n",
       "      <td>TRACTION_LTI_ON</td>\n",
       "      <td>Traction Control</td>\n",
       "      <td>DM101, DM102, DFS01, DFN02, DFN03, DFS04 - Clo...</td>\n",
       "      <td>REQUESTED</td>\n",
       "      <td>TCY</td>\n",
       "    </tr>\n",
       "    <tr>\n",
       "      <th>1261</th>\n",
       "      <td>TRACTION_HBF_ON</td>\n",
       "      <td>Traction Control</td>\n",
       "      <td>DM101, DM102, DFS01, DFN02, DFN03, DFS04 - Clo...</td>\n",
       "      <td>TERMINATED</td>\n",
       "      <td>TCY</td>\n",
       "    </tr>\n",
       "    <tr>\n",
       "      <th>1326</th>\n",
       "      <td>TRACTION_OTP_ON</td>\n",
       "      <td>Traction Control</td>\n",
       "      <td>DTS01, DTN02, DTN03, DTS04 - Close Control</td>\n",
       "      <td>REQUESTED</td>\n",
       "      <td>TCY</td>\n",
       "    </tr>\n",
       "  </tbody>\n",
       "</table>\n",
       "</div>"
      ],
      "text/plain": [
       "         ASSET_ID_RAW ASSET_DESCRIPTION  \\\n",
       "1161  TRACTION_HBF_ON  Traction Control   \n",
       "1170  TRACTION_CNT_ON  Traction Control   \n",
       "1174  TRACTION_LTI_ON  Traction Control   \n",
       "1261  TRACTION_HBF_ON  Traction Control   \n",
       "1326  TRACTION_OTP_ON  Traction Control   \n",
       "\n",
       "                                      EVENT_DESCRIPTION EVENT_STATUS  \\\n",
       "1161  DM101, DM102, DFS01, DFN02, DFN03, DFS04 - Clo...    REQUESTED   \n",
       "1170  DM101, DM102, DI201, DFS01, DFN02, DFN03, DFS0...    REQUESTED   \n",
       "1174  DM101, DM102, DFS01, DFN02, DFN03, DFS04 - Clo...    REQUESTED   \n",
       "1261  DM101, DM102, DFS01, DFN02, DFN03, DFS04 - Clo...   TERMINATED   \n",
       "1326         DTS01, DTN02, DTN03, DTS04 - Close Control    REQUESTED   \n",
       "\n",
       "     OPERATOR_INITIALS  \n",
       "1161               TCY  \n",
       "1170               TCY  \n",
       "1174               TCY  \n",
       "1261               TCY  \n",
       "1326               TCY  "
      ]
     },
     "execution_count": 45,
     "metadata": {},
     "output_type": "execute_result"
    }
   ],
   "source": [
    "# Update for \"Close Control\"\n",
    "try:\n",
    "    df.loc[(df[\"EVENT_DESCRIPTION\"].str.contains(\"Close Control\")) & \n",
    "          ((df[\"ASSET_DESCRIPTION\"].isnull()) | \n",
    "           (df[\"ASSET_DESCRIPTION\"] == None) | \n",
    "           (df[\"ASSET_DESCRIPTION\"] == \"\")\n",
    "          ), \"ASSET_DESCRIPTION\"] = \"Traction Control\"\n",
    "except:\n",
    "    pass\n",
    "\n",
    "# Inspect data\n",
    "df.loc[(df[\"EVENT_DESCRIPTION\"].str.contains(\"Close Control\")) & \n",
    "      (df[\"ASSET_DESCRIPTION\"].str.contains(\"Traction Control\"))].head()"
   ]
  },
  {
   "cell_type": "code",
   "execution_count": null,
   "metadata": {},
   "outputs": [],
   "source": []
  },
  {
   "cell_type": "code",
   "execution_count": 46,
   "metadata": {},
   "outputs": [
    {
     "data": {
      "text/html": [
       "<div>\n",
       "<style scoped>\n",
       "    .dataframe tbody tr th:only-of-type {\n",
       "        vertical-align: middle;\n",
       "    }\n",
       "\n",
       "    .dataframe tbody tr th {\n",
       "        vertical-align: top;\n",
       "    }\n",
       "\n",
       "    .dataframe thead th {\n",
       "        text-align: right;\n",
       "    }\n",
       "</style>\n",
       "<table border=\"1\" class=\"dataframe\">\n",
       "  <thead>\n",
       "    <tr style=\"text-align: right;\">\n",
       "      <th></th>\n",
       "      <th>ASSET_ID_RAW</th>\n",
       "      <th>ASSET_DESCRIPTION</th>\n",
       "      <th>EVENT_DESCRIPTION</th>\n",
       "      <th>EVENT_STATUS</th>\n",
       "      <th>OPERATOR_INITIALS</th>\n",
       "    </tr>\n",
       "  </thead>\n",
       "  <tbody>\n",
       "    <tr>\n",
       "      <th>1161</th>\n",
       "      <td>TRACTION_HBF_ON</td>\n",
       "      <td>Traction Control</td>\n",
       "      <td>DM101, DM102, DFS01, DFN02, DFN03, DFS04 - Clo...</td>\n",
       "      <td>REQUESTED</td>\n",
       "      <td>TCY</td>\n",
       "    </tr>\n",
       "    <tr>\n",
       "      <th>1170</th>\n",
       "      <td>TRACTION_CNT_ON</td>\n",
       "      <td>Traction Control</td>\n",
       "      <td>DM101, DM102, DI201, DFS01, DFN02, DFN03, DFS0...</td>\n",
       "      <td>REQUESTED</td>\n",
       "      <td>TCY</td>\n",
       "    </tr>\n",
       "    <tr>\n",
       "      <th>1174</th>\n",
       "      <td>TRACTION_LTI_ON</td>\n",
       "      <td>Traction Control</td>\n",
       "      <td>DM101, DM102, DFS01, DFN02, DFN03, DFS04 - Clo...</td>\n",
       "      <td>REQUESTED</td>\n",
       "      <td>TCY</td>\n",
       "    </tr>\n",
       "    <tr>\n",
       "      <th>1261</th>\n",
       "      <td>TRACTION_HBF_ON</td>\n",
       "      <td>Traction Control</td>\n",
       "      <td>DM101, DM102, DFS01, DFN02, DFN03, DFS04 - Clo...</td>\n",
       "      <td>TERMINATED</td>\n",
       "      <td>TCY</td>\n",
       "    </tr>\n",
       "    <tr>\n",
       "      <th>1326</th>\n",
       "      <td>TRACTION_OTP_ON</td>\n",
       "      <td>Traction Control</td>\n",
       "      <td>DTS01, DTN02, DTN03, DTS04 - Close Control</td>\n",
       "      <td>REQUESTED</td>\n",
       "      <td>TCY</td>\n",
       "    </tr>\n",
       "  </tbody>\n",
       "</table>\n",
       "</div>"
      ],
      "text/plain": [
       "         ASSET_ID_RAW ASSET_DESCRIPTION  \\\n",
       "1161  TRACTION_HBF_ON  Traction Control   \n",
       "1170  TRACTION_CNT_ON  Traction Control   \n",
       "1174  TRACTION_LTI_ON  Traction Control   \n",
       "1261  TRACTION_HBF_ON  Traction Control   \n",
       "1326  TRACTION_OTP_ON  Traction Control   \n",
       "\n",
       "                                      EVENT_DESCRIPTION EVENT_STATUS  \\\n",
       "1161  DM101, DM102, DFS01, DFN02, DFN03, DFS04 - Clo...    REQUESTED   \n",
       "1170  DM101, DM102, DI201, DFS01, DFN02, DFN03, DFS0...    REQUESTED   \n",
       "1174  DM101, DM102, DFS01, DFN02, DFN03, DFS04 - Clo...    REQUESTED   \n",
       "1261  DM101, DM102, DFS01, DFN02, DFN03, DFS04 - Clo...   TERMINATED   \n",
       "1326         DTS01, DTN02, DTN03, DTS04 - Close Control    REQUESTED   \n",
       "\n",
       "     OPERATOR_INITIALS  \n",
       "1161               TCY  \n",
       "1170               TCY  \n",
       "1174               TCY  \n",
       "1261               TCY  \n",
       "1326               TCY  "
      ]
     },
     "execution_count": 46,
     "metadata": {},
     "output_type": "execute_result"
    }
   ],
   "source": [
    "df.loc[(df[\"ASSET_DESCRIPTION\"].astype(str).str.contains(\"Traction Control\"))].head()"
   ]
  },
  {
   "cell_type": "code",
   "execution_count": 47,
   "metadata": {},
   "outputs": [
    {
     "data": {
      "text/plain": [
       "(20, 5)"
      ]
     },
     "execution_count": 47,
     "metadata": {},
     "output_type": "execute_result"
    }
   ],
   "source": [
    "df.loc[(df[\"ASSET_DESCRIPTION\"].astype(str).str.contains(\"Traction Control\"))].shape"
   ]
  },
  {
   "cell_type": "markdown",
   "metadata": {},
   "source": [
    "#### Get Asset Description Category (Remove Stopwords)"
   ]
  },
  {
   "cell_type": "code",
   "execution_count": 48,
   "metadata": {},
   "outputs": [],
   "source": [
    "# Define Key Location Names\n",
    "locNames = (\n",
    "            ('NED', ''),\n",
    "            ('FRP', ''),\n",
    "            ('SKG', ''),\n",
    "            ('HGN', ''),\n",
    "            ('KVN', ''),\n",
    "            ('SER', ''),\n",
    "            ('HBF', ''),\n",
    "            ('DBG', ''),\n",
    "            ('OTP', ''),\n",
    "            ('CNT', ''),\n",
    "            ('LTI', ''),\n",
    "            ('CQY', ''),\n",
    "            ('BGK', ''),\n",
    "            ('OCC', ''),\n",
    "            ('WLH', ''),\n",
    "            ('PTP', ''),\n",
    "            ('BNK', ''),\n",
    "            ('PGL', ''),\n",
    "            ('TUNNEL', ''),\n",
    "            ('Concourse', 'SUBLOCATION'),\n",
    "            ('Mezzaninne', 'SUBLOCATION'),\n",
    "            ('Mid-Landing Entrance', 'SUBLOCATION'),\n",
    "            ('AL', 'SUBLOCATION'),\n",
    "            ('Dirty Area', 'SUBLOCATION'),\n",
    "            ('IAP', 'SUBLOCATION'),\n",
    "            ('1st Storey', 'SUBLOCATION'),\n",
    "            ('2nd Storey', 'SUBLOCATION'),\n",
    "            ('3rd Storey', 'SUBLOCATION'),\n",
    "            ('B1', ''),\n",
    "            ('B2', ''),\n",
    "            ('B3', ''),\n",
    "            ('Entrance', 'SUBLOCATION'),\n",
    "            ('Mid Landing', ''),\n",
    "            ('Mid-Landing', 'SUBLOCATION'),\n",
    "            ('Subway', 'SUBLOCATION'),\n",
    "            ('Underpass Link', 'SUBLOCATION'),\n",
    "            (\"Underpass To EXT'G  STN\", 'SUBLOCATION')\n",
    "            )"
   ]
  },
  {
   "cell_type": "code",
   "execution_count": 49,
   "metadata": {},
   "outputs": [],
   "source": [
    "# Remove Location Names    \n",
    "df[\"ASSET_DESC_CAT\"] = df[\"ASSET_DESCRIPTION\"].copy()    \n",
    "for stopword in locNames:\n",
    "    df[\"ASSET_DESC_CAT\"] = df[\"ASSET_DESC_CAT\"].str.replace(stopword[0],stopword[1], regex = True)\n",
    "\n",
    "# Remove leading special characters\n",
    "df[\"ASSET_DESC_CAT\"] = df[\"ASSET_DESC_CAT\"].str.strip().str.replace(r'\\A(:)\\w+', ' ', regex = True)"
   ]
  },
  {
   "cell_type": "markdown",
   "metadata": {},
   "source": [
    "#### Get Asset Description Category (Remove Numbers)"
   ]
  },
  {
   "cell_type": "code",
   "execution_count": 50,
   "metadata": {},
   "outputs": [],
   "source": [
    "# Remove Numbers\n",
    "df['ASSET_DESC_CAT'] = df['ASSET_DESC_CAT'].str.replace(r'\\d+', '', regex = True)\n",
    "\n",
    "# Account for exceptions\n",
    "df.loc[df['ASSET_DESCRIPTION'] == \"22 kV Feeder CB\", \"ASSET_DESC_CAT\"] = \"22 kV Feeder CB\"\n",
    "df.loc[df['ASSET_DESCRIPTION'] == \"22 kV Loop CB\", \"ASSET_DESC_CAT\"] = \"22 kV Loop CB\"\n",
    "df.loc[df['ASSET_DESCRIPTION'] == \"22 kV Rectifier CB\", \"ASSET_DESC_CAT\"] = \"22 kV Rectifier CB\"\n",
    "\n",
    "df.loc[df['ASSET_DESCRIPTION'] == \"DC 1500 V Backup HSCB\", \"ASSET_DESC_CAT\"] = \"DC 1500 V Backup HSCB\"\n",
    "df.loc[df['ASSET_DESCRIPTION'] == \"DC 1500 V Bus Section\", \"ASSET_DESC_CAT\"] = \"DC 1500 V Bus Section\"\n",
    "df.loc[df['ASSET_DESCRIPTION'] == \"DC 1500 V Feeder CB\", \"ASSET_DESC_CAT\"] = \"DC 1500 V Feeder CB\"\n",
    "df.loc[df['ASSET_DESCRIPTION'] == \"DC 1500 V Rectifier CB\", \"ASSET_DESC_CAT\"] = \"DC 1500 V Rectifier CB\"\n",
    "df.loc[df['ASSET_DESCRIPTION'] == \"DC 1500 V Inverter CB\", \"ASSET_DESC_CAT\"] = \"DC 1500 V Inverter CB\""
   ]
  },
  {
   "cell_type": "markdown",
   "metadata": {},
   "source": [
    "#### Get Asset Description Category (Remove Redundant White Spaces)"
   ]
  },
  {
   "cell_type": "code",
   "execution_count": 51,
   "metadata": {},
   "outputs": [],
   "source": [
    "# Remove redundant white spaces    \n",
    "df[\"ASSET_DESC_CAT\"] = df[\"ASSET_DESC_CAT\"].str.strip().str.replace(r'\\s+', ' ', regex = True)"
   ]
  },
  {
   "cell_type": "markdown",
   "metadata": {},
   "source": [
    "#### Get Asset Description Category (Account for Misc Exceptions)"
   ]
  },
  {
   "cell_type": "code",
   "execution_count": 52,
   "metadata": {},
   "outputs": [],
   "source": [
    "# Account for exceptions\n",
    "df['ASSET_DESC_CAT'] = df['ASSET_DESC_CAT'].str.replace('SUBLOCATION SUBLOCATION', 'SUBLOCATION', regex = True)\n",
    "df['ASSET_DESC_CAT'] = df['ASSET_DESC_CAT'].str.replace('( ', '(', regex = False)"
   ]
  },
  {
   "cell_type": "markdown",
   "metadata": {},
   "source": [
    "#### Get Event Description Category (Stopwords)"
   ]
  },
  {
   "cell_type": "code",
   "execution_count": 53,
   "metadata": {},
   "outputs": [],
   "source": [
    "locNames2 = (\n",
    "            ('NED', ''),\n",
    "            ('FRP', ''),\n",
    "            ('SKG', ''),\n",
    "            ('HGN', ''),\n",
    "            ('KVN', ''),\n",
    "            ('SER', ''),\n",
    "            ('HBF', ''),\n",
    "            ('DBG', ''),\n",
    "            ('OTP', ''),\n",
    "            ('CNT', ''),\n",
    "            ('LTI', ''),\n",
    "            ('CQY', ''),\n",
    "            ('BGK', ''),\n",
    "            ('OCC', ''),\n",
    "            ('WLH', ''),\n",
    "            ('PTP', ''),\n",
    "            ('BNK', ''),\n",
    "            ('PGL', '')\n",
    "            )"
   ]
  },
  {
   "cell_type": "code",
   "execution_count": 54,
   "metadata": {},
   "outputs": [],
   "source": [
    "# Remove Location Names    \n",
    "df[\"EVENT_DESC_CAT\"] = df[\"EVENT_DESCRIPTION\"].copy()    \n",
    "for stopword in locNames2:\n",
    "    df[\"EVENT_DESC_CAT\"] = df[\"EVENT_DESC_CAT\"].str.replace(stopword[0],stopword[1], regex = True)"
   ]
  },
  {
   "cell_type": "markdown",
   "metadata": {},
   "source": [
    "#### Get Event Description Category (Remove Numbers)"
   ]
  },
  {
   "cell_type": "code",
   "execution_count": 55,
   "metadata": {},
   "outputs": [],
   "source": [
    "# Remove Numbers\n",
    "df['EVENT_DESC_CAT'] = df['EVENT_DESC_CAT'].str.replace(r'\\d+', '', regex = True)"
   ]
  },
  {
   "cell_type": "markdown",
   "metadata": {},
   "source": [
    "#### Get Event Description Category (Remove Redundant White Spaces)"
   ]
  },
  {
   "cell_type": "code",
   "execution_count": 56,
   "metadata": {},
   "outputs": [],
   "source": [
    "# Remove redundant white spaces    \n",
    "df[\"EVENT_DESC_CAT\"] = df[\"EVENT_DESC_CAT\"].str.strip().str.replace(r'\\s+', ' ', regex = True)"
   ]
  },
  {
   "cell_type": "markdown",
   "metadata": {},
   "source": [
    "#### Get Event Description Category (Account for Misc Exceptions)"
   ]
  },
  {
   "cell_type": "code",
   "execution_count": 57,
   "metadata": {},
   "outputs": [],
   "source": [
    "# Account for Exceptions\n",
    "try:\n",
    "    df.loc[(df['EVENT_DESC_CAT'].str.contains(\"logged\", regex = False)) & \n",
    "           (df['EVENT_DESC_CAT'].str.contains(\"Operator\", regex = False)) &\n",
    "           (df['EVENT_DESC_CAT'].str.contains(\"NelVisu\", regex = False)),\n",
    "           \"EVENT_DESC_CAT\"\n",
    "          ] = \"Operator Logged In/Out of NelVisu\"\n",
    "except:\n",
    "    pass\n",
    "df['EVENT_DESC_CAT'] = df['EVENT_DESC_CAT'].str.replace(r' /, /...', '', regex = False)\n",
    "df['EVENT_DESC_CAT'] = df['EVENT_DESC_CAT'].str.replace(r' /', '', regex = False)"
   ]
  },
  {
   "cell_type": "markdown",
   "metadata": {},
   "source": [
    "#### Extract Train Information"
   ]
  },
  {
   "cell_type": "code",
   "execution_count": 58,
   "metadata": {},
   "outputs": [],
   "source": [
    "# Get Train ID\n",
    "df[\"TrainID\"] = df[\"EVENT_DESCRIPTION\"].str.extract(r\"TR___(\\d+)\")\n",
    "# Get CarID\n",
    "df[\"CarID\"] = df[\"EVENT_DESCRIPTION\"].str.extract(r\"cars (\\d+)/\")\n",
    "# Get ServiceID\n",
    "df[\"ServiceID\"] = df[\"EVENT_DESCRIPTION\"].str.extract(r\"cars \\d+/(\\d+)\")"
   ]
  },
  {
   "cell_type": "markdown",
   "metadata": {},
   "source": [
    "#### Extract Asset Information"
   ]
  },
  {
   "cell_type": "code",
   "execution_count": 59,
   "metadata": {},
   "outputs": [],
   "source": [
    "# Remove Location Names    \n",
    "df[\"AssetClass\"] = df[\"ASSET_ID_RAW\"].copy()    \n",
    "for stopword in locNames2:\n",
    "    df[\"AssetClass\"] = df[\"AssetClass\"].str.replace(stopword[0],stopword[1], regex = True)\n",
    "    \n",
    "# Remove Numbers\n",
    "df['AssetClass'] = df['AssetClass'].str.replace(r'\\d+', '', regex = True)\n",
    "\n",
    "# Remove Exceptions\n",
    "try:\n",
    "    df.loc[df['AssetClass'].str.contains(\"TRACTION\", regex = False), 'AssetClass'] = \"TRACTION/TRACTION\"\n",
    "except:\n",
    "    pass\n",
    "\n",
    "try:\n",
    "    df.loc[(df['AssetClass'].str.contains(\"TUNNEL\", regex = False)) & \n",
    "       (df['AssetClass'].str.contains(\"LIGHT\", regex = False)), 'AssetClass'] = \"TUNNEL/LIGHT\"\n",
    "except:\n",
    "    pass\n",
    "\n",
    "# Clean up string prior to delimiting\n",
    "df['AssetClass'] = df['AssetClass'].str.replace(r'\\A(_)', '', regex = True)\n",
    "df['AssetClass'] = df['AssetClass'].str.replace(r'(_)\\Z', '', regex = True)\n",
    "df['AssetClass'] = df['AssetClass'].str.replace('_', '/', regex = False)"
   ]
  },
  {
   "cell_type": "code",
   "execution_count": 60,
   "metadata": {},
   "outputs": [],
   "source": [
    "# Get AssetSubClass\n",
    "df['AssetSubClass'] = df['AssetClass'].str.split(\"/\").str[-1]\n",
    "\n",
    "# Get AssetClass\n",
    "df['AssetClass'] = df['AssetClass'].str.split(\"/\").str[0]"
   ]
  },
  {
   "cell_type": "code",
   "execution_count": null,
   "metadata": {},
   "outputs": [],
   "source": []
  },
  {
   "cell_type": "markdown",
   "metadata": {},
   "source": [
    "## Export File"
   ]
  },
  {
   "cell_type": "code",
   "execution_count": 61,
   "metadata": {},
   "outputs": [],
   "source": [
    "df.to_csv('../testLog/' + 'cleaningTest' +'.csv', index=False)"
   ]
  },
  {
   "cell_type": "code",
   "execution_count": 62,
   "metadata": {},
   "outputs": [
    {
     "data": {
      "text/html": [
       "<div>\n",
       "<style scoped>\n",
       "    .dataframe tbody tr th:only-of-type {\n",
       "        vertical-align: middle;\n",
       "    }\n",
       "\n",
       "    .dataframe tbody tr th {\n",
       "        vertical-align: top;\n",
       "    }\n",
       "\n",
       "    .dataframe thead th {\n",
       "        text-align: right;\n",
       "    }\n",
       "</style>\n",
       "<table border=\"1\" class=\"dataframe\">\n",
       "  <thead>\n",
       "    <tr style=\"text-align: right;\">\n",
       "      <th></th>\n",
       "      <th>ASSET_ID_RAW</th>\n",
       "      <th>ASSET_DESCRIPTION</th>\n",
       "      <th>EVENT_DESCRIPTION</th>\n",
       "      <th>EVENT_STATUS</th>\n",
       "      <th>OPERATOR_INITIALS</th>\n",
       "      <th>ASSET_DESC_CAT</th>\n",
       "      <th>EVENT_DESC_CAT</th>\n",
       "      <th>TrainID</th>\n",
       "      <th>CarID</th>\n",
       "      <th>ServiceID</th>\n",
       "      <th>AssetClass</th>\n",
       "      <th>AssetSubClass</th>\n",
       "    </tr>\n",
       "  </thead>\n",
       "  <tbody>\n",
       "    <tr>\n",
       "      <th>0</th>\n",
       "      <td>OCC_LENV_CMS_</td>\n",
       "      <td>CMS SCS Server - Environment OCCCMS</td>\n",
       "      <td>Environment 1 Status</td>\n",
       "      <td>HOT</td>\n",
       "      <td>NaN</td>\n",
       "      <td>CMS SCS Server - Environment CMS</td>\n",
       "      <td>Environment Status</td>\n",
       "      <td>NaN</td>\n",
       "      <td>NaN</td>\n",
       "      <td>NaN</td>\n",
       "      <td>LENV</td>\n",
       "      <td>CMS</td>\n",
       "    </tr>\n",
       "    <tr>\n",
       "      <th>1</th>\n",
       "      <td>COM/SER/B1/CAM20</td>\n",
       "      <td>SER:208 LWY1</td>\n",
       "      <td>Status</td>\n",
       "      <td>FAILURE</td>\n",
       "      <td>NaN</td>\n",
       "      <td>LWY</td>\n",
       "      <td>Status</td>\n",
       "      <td>NaN</td>\n",
       "      <td>NaN</td>\n",
       "      <td>NaN</td>\n",
       "      <td>COM</td>\n",
       "      <td>CAM</td>\n",
       "    </tr>\n",
       "    <tr>\n",
       "      <th>2</th>\n",
       "      <td>COM/BNK/B1/PABX01</td>\n",
       "      <td>PABX</td>\n",
       "      <td>Fan 1 Status</td>\n",
       "      <td>FAILURE</td>\n",
       "      <td>NaN</td>\n",
       "      <td>PABX</td>\n",
       "      <td>Fan Status</td>\n",
       "      <td>NaN</td>\n",
       "      <td>NaN</td>\n",
       "      <td>NaN</td>\n",
       "      <td>COM</td>\n",
       "      <td>PABX</td>\n",
       "    </tr>\n",
       "    <tr>\n",
       "      <th>3</th>\n",
       "      <td>COM/DBG/B2/CAM57</td>\n",
       "      <td>DBG:424 AFG 3</td>\n",
       "      <td>Status</td>\n",
       "      <td>FAILURE</td>\n",
       "      <td>NaN</td>\n",
       "      <td>AFG</td>\n",
       "      <td>Status</td>\n",
       "      <td>NaN</td>\n",
       "      <td>NaN</td>\n",
       "      <td>NaN</td>\n",
       "      <td>COM</td>\n",
       "      <td>CAM</td>\n",
       "    </tr>\n",
       "    <tr>\n",
       "      <th>4</th>\n",
       "      <td>COM/SER/B1/CAM20</td>\n",
       "      <td>SER:208 LWY1</td>\n",
       "      <td>Status</td>\n",
       "      <td>NORMAL</td>\n",
       "      <td>NaN</td>\n",
       "      <td>LWY</td>\n",
       "      <td>Status</td>\n",
       "      <td>NaN</td>\n",
       "      <td>NaN</td>\n",
       "      <td>NaN</td>\n",
       "      <td>COM</td>\n",
       "      <td>CAM</td>\n",
       "    </tr>\n",
       "  </tbody>\n",
       "</table>\n",
       "</div>"
      ],
      "text/plain": [
       "        ASSET_ID_RAW                    ASSET_DESCRIPTION  \\\n",
       "0      OCC_LENV_CMS_  CMS SCS Server - Environment OCCCMS   \n",
       "1   COM/SER/B1/CAM20                         SER:208 LWY1   \n",
       "2  COM/BNK/B1/PABX01                                 PABX   \n",
       "3   COM/DBG/B2/CAM57                        DBG:424 AFG 3   \n",
       "4   COM/SER/B1/CAM20                         SER:208 LWY1   \n",
       "\n",
       "      EVENT_DESCRIPTION EVENT_STATUS OPERATOR_INITIALS  \\\n",
       "0  Environment 1 Status          HOT               NaN   \n",
       "1                Status      FAILURE               NaN   \n",
       "2          Fan 1 Status      FAILURE               NaN   \n",
       "3                Status      FAILURE               NaN   \n",
       "4                Status       NORMAL               NaN   \n",
       "\n",
       "                     ASSET_DESC_CAT      EVENT_DESC_CAT TrainID CarID  \\\n",
       "0  CMS SCS Server - Environment CMS  Environment Status     NaN   NaN   \n",
       "1                               LWY              Status     NaN   NaN   \n",
       "2                              PABX          Fan Status     NaN   NaN   \n",
       "3                               AFG              Status     NaN   NaN   \n",
       "4                               LWY              Status     NaN   NaN   \n",
       "\n",
       "  ServiceID AssetClass AssetSubClass  \n",
       "0       NaN       LENV           CMS  \n",
       "1       NaN        COM           CAM  \n",
       "2       NaN        COM          PABX  \n",
       "3       NaN        COM           CAM  \n",
       "4       NaN        COM           CAM  "
      ]
     },
     "execution_count": 62,
     "metadata": {},
     "output_type": "execute_result"
    }
   ],
   "source": [
    "# View data\n",
    "df.head()"
   ]
  },
  {
   "cell_type": "code",
   "execution_count": 63,
   "metadata": {},
   "outputs": [
    {
     "name": "stdout",
     "output_type": "stream",
     "text": [
      "<class 'pandas.core.frame.DataFrame'>\n",
      "RangeIndex: 3216 entries, 0 to 3215\n",
      "Data columns (total 12 columns):\n",
      " #   Column             Non-Null Count  Dtype \n",
      "---  ------             --------------  ----- \n",
      " 0   ASSET_ID_RAW       3216 non-null   object\n",
      " 1   ASSET_DESCRIPTION  3207 non-null   object\n",
      " 2   EVENT_DESCRIPTION  3216 non-null   object\n",
      " 3   EVENT_STATUS       3215 non-null   object\n",
      " 4   OPERATOR_INITIALS  845 non-null    object\n",
      " 5   ASSET_DESC_CAT     3207 non-null   object\n",
      " 6   EVENT_DESC_CAT     3216 non-null   object\n",
      " 7   TrainID            49 non-null     object\n",
      " 8   CarID              369 non-null    object\n",
      " 9   ServiceID          369 non-null    object\n",
      " 10  AssetClass         3216 non-null   object\n",
      " 11  AssetSubClass      3216 non-null   object\n",
      "dtypes: object(12)\n",
      "memory usage: 301.6+ KB\n"
     ]
    }
   ],
   "source": [
    "# View data\n",
    "df.info()"
   ]
  },
  {
   "cell_type": "code",
   "execution_count": null,
   "metadata": {},
   "outputs": [],
   "source": []
  },
  {
   "cell_type": "code",
   "execution_count": null,
   "metadata": {},
   "outputs": [],
   "source": []
  },
  {
   "cell_type": "code",
   "execution_count": null,
   "metadata": {},
   "outputs": [],
   "source": []
  },
  {
   "cell_type": "code",
   "execution_count": null,
   "metadata": {},
   "outputs": [],
   "source": []
  },
  {
   "cell_type": "code",
   "execution_count": null,
   "metadata": {},
   "outputs": [],
   "source": []
  },
  {
   "cell_type": "code",
   "execution_count": null,
   "metadata": {},
   "outputs": [],
   "source": []
  },
  {
   "cell_type": "code",
   "execution_count": null,
   "metadata": {},
   "outputs": [],
   "source": []
  },
  {
   "cell_type": "code",
   "execution_count": null,
   "metadata": {},
   "outputs": [],
   "source": []
  }
 ],
 "metadata": {
  "kernelspec": {
   "display_name": "Python 3",
   "language": "python",
   "name": "python3"
  },
  "language_info": {
   "codemirror_mode": {
    "name": "ipython",
    "version": 3
   },
   "file_extension": ".py",
   "mimetype": "text/x-python",
   "name": "python",
   "nbconvert_exporter": "python",
   "pygments_lexer": "ipython3",
   "version": "3.8.5"
  }
 },
 "nbformat": 4,
 "nbformat_minor": 2
}
