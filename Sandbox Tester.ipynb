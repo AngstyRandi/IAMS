{
 "cells": [
  {
   "cell_type": "code",
   "execution_count": 1,
   "metadata": {},
   "outputs": [],
   "source": [
    "import numpy as np\n",
    "import pandas as pd\n",
    "\n"
   ]
  },
  {
   "cell_type": "code",
   "execution_count": 7,
   "metadata": {},
   "outputs": [
    {
     "data": {
      "text/plain": [
       "{'ASSET_DESC_CAT': [nan, nan, 'bob']}"
      ]
     },
     "execution_count": 7,
     "metadata": {},
     "output_type": "execute_result"
    }
   ],
   "source": [
    "data = {\"ASSET_DESC_CAT\": [np.nan,\n",
    "                           np.nan,\n",
    "                          \"bob\"]\n",
    "}\n",
    "data"
   ]
  },
  {
   "cell_type": "code",
   "execution_count": 8,
   "metadata": {},
   "outputs": [
    {
     "data": {
      "text/html": [
       "<div>\n",
       "<style scoped>\n",
       "    .dataframe tbody tr th:only-of-type {\n",
       "        vertical-align: middle;\n",
       "    }\n",
       "\n",
       "    .dataframe tbody tr th {\n",
       "        vertical-align: top;\n",
       "    }\n",
       "\n",
       "    .dataframe thead th {\n",
       "        text-align: right;\n",
       "    }\n",
       "</style>\n",
       "<table border=\"1\" class=\"dataframe\">\n",
       "  <thead>\n",
       "    <tr style=\"text-align: right;\">\n",
       "      <th></th>\n",
       "      <th>ASSET_DESC_CAT</th>\n",
       "    </tr>\n",
       "  </thead>\n",
       "  <tbody>\n",
       "    <tr>\n",
       "      <th>0</th>\n",
       "      <td>NaN</td>\n",
       "    </tr>\n",
       "    <tr>\n",
       "      <th>1</th>\n",
       "      <td>NaN</td>\n",
       "    </tr>\n",
       "    <tr>\n",
       "      <th>2</th>\n",
       "      <td>bob</td>\n",
       "    </tr>\n",
       "  </tbody>\n",
       "</table>\n",
       "</div>"
      ],
      "text/plain": [
       "  ASSET_DESC_CAT\n",
       "0            NaN\n",
       "1            NaN\n",
       "2            bob"
      ]
     },
     "execution_count": 8,
     "metadata": {},
     "output_type": "execute_result"
    }
   ],
   "source": [
    "df = pd.DataFrame (data, columns = ['ASSET_DESC_CAT'])\n",
    "df"
   ]
  },
  {
   "cell_type": "code",
   "execution_count": 9,
   "metadata": {},
   "outputs": [
    {
     "name": "stdout",
     "output_type": "stream",
     "text": [
      "<class 'pandas.core.frame.DataFrame'>\n",
      "RangeIndex: 3 entries, 0 to 2\n",
      "Data columns (total 1 columns):\n",
      " #   Column          Non-Null Count  Dtype \n",
      "---  ------          --------------  ----- \n",
      " 0   ASSET_DESC_CAT  1 non-null      object\n",
      "dtypes: object(1)\n",
      "memory usage: 152.0+ bytes\n"
     ]
    }
   ],
   "source": [
    "df.info()"
   ]
  },
  {
   "cell_type": "code",
   "execution_count": 11,
   "metadata": {},
   "outputs": [
    {
     "data": {
      "text/plain": [
       "0     True\n",
       "1     True\n",
       "2    False\n",
       "Name: ASSET_DESC_CAT, dtype: bool"
      ]
     },
     "execution_count": 11,
     "metadata": {},
     "output_type": "execute_result"
    }
   ],
   "source": [
    "df['ASSET_DESC_CAT'].str.contains('og', na=True, regex=True)"
   ]
  },
  {
   "cell_type": "code",
   "execution_count": null,
   "metadata": {},
   "outputs": [],
   "source": []
  },
  {
   "cell_type": "code",
   "execution_count": null,
   "metadata": {},
   "outputs": [],
   "source": []
  },
  {
   "cell_type": "code",
   "execution_count": null,
   "metadata": {},
   "outputs": [],
   "source": []
  },
  {
   "cell_type": "code",
   "execution_count": null,
   "metadata": {},
   "outputs": [],
   "source": [
    "data = {\"rawData\": [\"Message:OCC_ANNO_0001$Gws 5 stops DVA bcast msg 521 in cars 85/914$Executed$QLJTheme:\",\n",
    "                    \"Message:OCC_ANNO_0001$Gws 5 starts DVA bcast msg 521 in cars 85/914$Executed$QLJTheme:\",\n",
    "                    \"Message:OCC_ANNO_0001$Gws 0 suspends DVA bcast msg 599 in cars 7/304, 9/351...$Executed$Theme:\",\n",
    "                    \"Message:OCC_ANNO_0001$Gws 0 suspends DVA bcast msg 599 in cars 7/333, 15/329...$Executed$Theme:\",\n",
    "                    \"Message:OCC_ANNO_0001$Gws 0 suspends DVA bcast msg 599 in cars 1/331, 3/313...$Executed$Theme:\",\n",
    "                    \"Message:OCC_ANNO_0001$Gws 0 suspends DVA bcast msg 513 in cars 81/334$Executed$Theme:\",\n",
    "                    \"Message:OCC_ANNO_0001$Gws 0 suspends DVA bcast msg 513 in cars 81/334$Executed$Theme:\",\n",
    "                    \"Message:OCC_ANNO_0001$Gws 0 suspends ATAS msg 91 in cars 33/307$Executed$Theme:\",\n",
    "                    \"Message:OCC_ANNO_0001$Gws 0 suspends ATAS msg 91 in cars 85/314$Executed$Theme:\",\n",
    "                    \"Message:OCC_ANNO_0001$TestAssetDesc: Gws 0 suspends DVA bcast msg 521 in cars 39/310$Executed$Theme:\",\n",
    "                    \"Message:OCC_ANNO_0001$TestAssetDesc: Gws 0 suspends DVA bcast msg 521 in cars 57/917$Executed$Theme:\"]\n",
    "}\n",
    "data"
   ]
  },
  {
   "cell_type": "code",
   "execution_count": null,
   "metadata": {},
   "outputs": [],
   "source": []
  },
  {
   "cell_type": "code",
   "execution_count": null,
   "metadata": {},
   "outputs": [],
   "source": [
    "df = pd.DataFrame (data, columns = ['rawData'])\n",
    "df"
   ]
  },
  {
   "cell_type": "code",
   "execution_count": null,
   "metadata": {},
   "outputs": [],
   "source": [
    "def extractTextBetween2_series(originalTextSeries, delimeterA='Message:', delimterB='Theme:'):\n",
    "        clip1 = originalTextSeries.str.split(delimeterA).str.get(1)\n",
    "        clip2 = clip1.str.split(delimterB).str.get(0).str.strip()\n",
    "        clip3 = clip2.str.replace(\";\", \"\").str.split(\"$\")\n",
    "        rawMessage = clip2.str.replace(\";\", \"\") # for debugging only\n",
    "        del clip1, clip2\n",
    "\n",
    "        ASSET_ID_RAW = clip3.str.get(0).str.strip()\n",
    "        \n",
    "        try:\n",
    "            ASSET_DESCRIPTION = clip3.str.get(1).str.split(\": \").str.get(0).str.strip()\n",
    "        except: \n",
    "            ASSET_DESCRIPTION = None\n",
    "\n",
    "        try:    \n",
    "            EVENT_DESCRIPTION = clip3.str.get(1).str.split(\": \").str.get(1).str.strip()\n",
    "        except:\n",
    "            EVENT_DESCRIPTION = None\n",
    "\n",
    "        try:\n",
    "            EVENT_STATUS = clip3.str.get(2).str.strip()\n",
    "        except:\n",
    "            EVENT_STATUS = None\n",
    "\n",
    "        try:\n",
    "            OPERATOR_INITIALS = clip3.str.get(3).str.strip()\n",
    "        except:\n",
    "            OPERATOR_INITIALS = None\n",
    "\n",
    "        return ASSET_ID_RAW, ASSET_DESCRIPTION, EVENT_DESCRIPTION, EVENT_STATUS, OPERATOR_INITIALS, rawMessage, clip3 #rawMessage for debugging only\n"
   ]
  },
  {
   "cell_type": "code",
   "execution_count": null,
   "metadata": {
    "scrolled": false
   },
   "outputs": [],
   "source": [
    "df[\"ASSET_ID_RAW\"], df[\"ASSET_DESCRIPTION\"], df[\"EVENT_DESCRIPTION\"], df[\"EVENT_STATUS\"], df[\"OPERATOR_INITIALS\"], df[\"rawMessage\"], df[\"clip3\"] = extractTextBetween2_series(df[\"rawData\"])\n",
    "df"
   ]
  },
  {
   "cell_type": "code",
   "execution_count": null,
   "metadata": {},
   "outputs": [],
   "source": [
    "df.loc[df[\"EVENT_DESCRIPTION\"].isna(), \"EVENT_DESCRIPTION\"] = df[\"ASSET_DESCRIPTION\"]\n",
    "df"
   ]
  },
  {
   "cell_type": "code",
   "execution_count": null,
   "metadata": {},
   "outputs": [],
   "source": []
  },
  {
   "cell_type": "code",
   "execution_count": null,
   "metadata": {},
   "outputs": [],
   "source": []
  },
  {
   "cell_type": "code",
   "execution_count": null,
   "metadata": {},
   "outputs": [],
   "source": []
  },
  {
   "cell_type": "code",
   "execution_count": null,
   "metadata": {
    "scrolled": true
   },
   "outputs": [],
   "source": [
    "data = {'First Column Name':  ['Alpha valueX', 'BravovalueX', \"Charlie valueX valueY\", np.nan, np.nan, None, None],\n",
    "        'Second Column Name': ['First value', 'Second value', 'Third value1 value2', 123, \"AS\", 123, \"AS\"],\n",
    "        'Third Column Name': ['cars 1232/643 AS', 'Car 5392 asad', 'Car 054385:asdad', 'cars 1264/863 AS', 'Car 56432 asad', 'Car 0537545:asdad', np.nan],\n",
    "        'Fourth Column Name': ['First    value   ', 'First value ', 'First   value', 123, \"AS\", 123, \"AS\"],\n",
    "       }\n",
    "data"
   ]
  },
  {
   "cell_type": "code",
   "execution_count": null,
   "metadata": {
    "scrolled": true
   },
   "outputs": [],
   "source": [
    "testName = [\"Test 1\", \"Test2\", \"Test3\"]\n",
    "\n",
    "\n",
    "df = pd.DataFrame (data, columns = ['First Column Name','Second Column Name', 'Third Column Name', 'Fourth Column Name'])\n",
    "df"
   ]
  },
  {
   "cell_type": "code",
   "execution_count": null,
   "metadata": {},
   "outputs": [],
   "source": [
    "df[testName] = df[\"Third Column Name\"].str.extract(r\"cars (\\d+)/(\\d+)|Car (\\d+)[ :]\")\n",
    "df"
   ]
  },
  {
   "cell_type": "code",
   "execution_count": null,
   "metadata": {},
   "outputs": [],
   "source": [
    "df['Fourth Column Name']"
   ]
  },
  {
   "cell_type": "code",
   "execution_count": null,
   "metadata": {},
   "outputs": [],
   "source": [
    "df['Fourth Column Name'].str.strip().str.replace(r'\\s+', ' ', regex = True)"
   ]
  },
  {
   "cell_type": "code",
   "execution_count": null,
   "metadata": {},
   "outputs": [],
   "source": [
    "df['Fourth Column Name'].str.replace(r'\\s+', ' ', regex = True).str.strip()"
   ]
  },
  {
   "cell_type": "code",
   "execution_count": null,
   "metadata": {},
   "outputs": [],
   "source": [
    "df.loc[df[\"Test 1\"].isna(), \"Test 1\"] =  df[\"Test3\"]"
   ]
  },
  {
   "cell_type": "code",
   "execution_count": null,
   "metadata": {},
   "outputs": [],
   "source": [
    "df"
   ]
  },
  {
   "cell_type": "code",
   "execution_count": null,
   "metadata": {},
   "outputs": [],
   "source": [
    "df[testName] = df[\"Second Column Name\"].str.split(expand=True)\n",
    "df"
   ]
  },
  {
   "cell_type": "code",
   "execution_count": null,
   "metadata": {},
   "outputs": [],
   "source": [
    "df[[\"testName\",\"testName2\"]] = df[\"First Column Name\"].str.split(expand=True, n = 1) + \"BOB\"\n",
    "df"
   ]
  },
  {
   "cell_type": "code",
   "execution_count": null,
   "metadata": {},
   "outputs": [],
   "source": [
    "s = pd.Series(['msg in asd', 'msg  in dasd', 'msg     in'])\n",
    "s"
   ]
  },
  {
   "cell_type": "code",
   "execution_count": null,
   "metadata": {},
   "outputs": [],
   "source": [
    "s.str.replace(r'( )+', ' ', regex = True)"
   ]
  },
  {
   "cell_type": "code",
   "execution_count": null,
   "metadata": {},
   "outputs": [],
   "source": []
  }
 ],
 "metadata": {
  "kernelspec": {
   "display_name": "Python 3 (ipykernel)",
   "language": "python",
   "name": "python3"
  },
  "language_info": {
   "codemirror_mode": {
    "name": "ipython",
    "version": 3
   },
   "file_extension": ".py",
   "mimetype": "text/x-python",
   "name": "python",
   "nbconvert_exporter": "python",
   "pygments_lexer": "ipython3",
   "version": "3.9.7"
  }
 },
 "nbformat": 4,
 "nbformat_minor": 4
}
